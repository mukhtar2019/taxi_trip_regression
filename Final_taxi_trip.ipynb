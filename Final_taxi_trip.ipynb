{
 "cells": [
  {
   "cell_type": "markdown",
   "id": "2e2abf41",
   "metadata": {},
   "source": [
    "## Data Exploration"
   ]
  },
  {
   "cell_type": "markdown",
   "id": "94c5cd7f",
   "metadata": {},
   "source": [
    "#### Lets import the necessary libs and load the dataet."
   ]
  },
  {
   "cell_type": "code",
   "execution_count": 1,
   "id": "18fff1d1",
   "metadata": {},
   "outputs": [],
   "source": [
    "# import libraries\n",
    "\n",
    "import pandas as pd # read the dataset\n",
    "import numpy as np # linear algebra\n",
    "import pickle \n",
    "import patsy\n",
    "import statsmodels.api as sm\n",
    "import statsmodels.formula.api as smf\n",
    "import matplotlib.pyplot as plt\n",
    "import seaborn as sns  # visualize data\n",
    "from sklearn.linear_model import LinearRegression,Lasso, Ridge,ElasticNet\n",
    "from sklearn import metrics\n",
    "from sklearn.preprocessing import PolynomialFeatures\n",
    "from sklearn.preprocessing import StandardScaler, PolynomialFeatures,MinMaxScaler\n",
    "from sklearn.pipeline import make_pipeline,Pipeline\n",
    "%matplotlib inline\n",
    "import warnings\n",
    "from sklearn.metrics import mean_squared_error, mean_absolute_error\n",
    "warnings.filterwarnings('ignore')\n",
    "from sklearn.neighbors import KNeighborsRegressor\n",
    "from sklearn.model_selection import train_test_split\n",
    "from sklearn.model_selection import GridSearchCV"
   ]
  },
  {
   "cell_type": "code",
   "execution_count": 2,
   "id": "8cdafd39",
   "metadata": {},
   "outputs": [],
   "source": [
    "# read data using pd.read_csv, then store the data in df dataframe\n",
    "#Reading Data\n",
    "df = pd.read_csv('yellow_tripdata7.csv')"
   ]
  },
  {
   "cell_type": "code",
   "execution_count": 3,
   "id": "f9789f40",
   "metadata": {},
   "outputs": [
    {
     "data": {
      "text/plain": [
       "(2821515, 18)"
      ]
     },
     "execution_count": 3,
     "metadata": {},
     "output_type": "execute_result"
    }
   ],
   "source": [
    "#number of rows and columns \n",
    "df.shape"
   ]
  },
  {
   "cell_type": "code",
   "execution_count": 4,
   "id": "1970522f",
   "metadata": {
    "scrolled": true
   },
   "outputs": [
    {
     "data": {
      "text/html": [
       "<div>\n",
       "<style scoped>\n",
       "    .dataframe tbody tr th:only-of-type {\n",
       "        vertical-align: middle;\n",
       "    }\n",
       "\n",
       "    .dataframe tbody tr th {\n",
       "        vertical-align: top;\n",
       "    }\n",
       "\n",
       "    .dataframe thead th {\n",
       "        text-align: right;\n",
       "    }\n",
       "</style>\n",
       "<table border=\"1\" class=\"dataframe\">\n",
       "  <thead>\n",
       "    <tr style=\"text-align: right;\">\n",
       "      <th></th>\n",
       "      <th>VendorID</th>\n",
       "      <th>tpep_pickup_datetime</th>\n",
       "      <th>tpep_dropoff_datetime</th>\n",
       "      <th>passenger_count</th>\n",
       "      <th>trip_distance</th>\n",
       "      <th>RatecodeID</th>\n",
       "      <th>store_and_fwd_flag</th>\n",
       "      <th>PULocationID</th>\n",
       "      <th>DOLocationID</th>\n",
       "      <th>payment_type</th>\n",
       "      <th>fare_amount</th>\n",
       "      <th>extra</th>\n",
       "      <th>mta_tax</th>\n",
       "      <th>tip_amount</th>\n",
       "      <th>tolls_amount</th>\n",
       "      <th>improvement_surcharge</th>\n",
       "      <th>total_amount</th>\n",
       "      <th>congestion_surcharge</th>\n",
       "    </tr>\n",
       "  </thead>\n",
       "  <tbody>\n",
       "    <tr>\n",
       "      <th>0</th>\n",
       "      <td>1.0</td>\n",
       "      <td>2021-07-01 00:08:51</td>\n",
       "      <td>2021-07-01 00:13:05</td>\n",
       "      <td>1.0</td>\n",
       "      <td>0.8</td>\n",
       "      <td>1.0</td>\n",
       "      <td>N</td>\n",
       "      <td>90</td>\n",
       "      <td>68</td>\n",
       "      <td>1.0</td>\n",
       "      <td>5.0</td>\n",
       "      <td>3.0</td>\n",
       "      <td>0.5</td>\n",
       "      <td>0.0</td>\n",
       "      <td>0.0</td>\n",
       "      <td>0.3</td>\n",
       "      <td>8.8</td>\n",
       "      <td>2.5</td>\n",
       "    </tr>\n",
       "    <tr>\n",
       "      <th>1</th>\n",
       "      <td>1.0</td>\n",
       "      <td>2021-07-01 00:22:39</td>\n",
       "      <td>2021-07-01 00:25:58</td>\n",
       "      <td>1.0</td>\n",
       "      <td>0.9</td>\n",
       "      <td>1.0</td>\n",
       "      <td>N</td>\n",
       "      <td>113</td>\n",
       "      <td>90</td>\n",
       "      <td>2.0</td>\n",
       "      <td>5.0</td>\n",
       "      <td>3.0</td>\n",
       "      <td>0.5</td>\n",
       "      <td>0.0</td>\n",
       "      <td>0.0</td>\n",
       "      <td>0.3</td>\n",
       "      <td>8.8</td>\n",
       "      <td>2.5</td>\n",
       "    </tr>\n",
       "    <tr>\n",
       "      <th>2</th>\n",
       "      <td>1.0</td>\n",
       "      <td>2021-07-01 00:48:33</td>\n",
       "      <td>2021-07-01 00:54:58</td>\n",
       "      <td>1.0</td>\n",
       "      <td>2.8</td>\n",
       "      <td>1.0</td>\n",
       "      <td>N</td>\n",
       "      <td>88</td>\n",
       "      <td>232</td>\n",
       "      <td>2.0</td>\n",
       "      <td>10.0</td>\n",
       "      <td>3.0</td>\n",
       "      <td>0.5</td>\n",
       "      <td>0.0</td>\n",
       "      <td>0.0</td>\n",
       "      <td>0.3</td>\n",
       "      <td>13.8</td>\n",
       "      <td>2.5</td>\n",
       "    </tr>\n",
       "    <tr>\n",
       "      <th>3</th>\n",
       "      <td>1.0</td>\n",
       "      <td>2021-07-01 00:59:44</td>\n",
       "      <td>2021-07-01 01:07:09</td>\n",
       "      <td>1.0</td>\n",
       "      <td>1.4</td>\n",
       "      <td>1.0</td>\n",
       "      <td>N</td>\n",
       "      <td>79</td>\n",
       "      <td>249</td>\n",
       "      <td>1.0</td>\n",
       "      <td>7.0</td>\n",
       "      <td>3.0</td>\n",
       "      <td>0.5</td>\n",
       "      <td>1.5</td>\n",
       "      <td>0.0</td>\n",
       "      <td>0.3</td>\n",
       "      <td>12.3</td>\n",
       "      <td>2.5</td>\n",
       "    </tr>\n",
       "    <tr>\n",
       "      <th>4</th>\n",
       "      <td>1.0</td>\n",
       "      <td>2021-07-01 00:08:35</td>\n",
       "      <td>2021-07-01 00:16:28</td>\n",
       "      <td>0.0</td>\n",
       "      <td>2.0</td>\n",
       "      <td>1.0</td>\n",
       "      <td>N</td>\n",
       "      <td>142</td>\n",
       "      <td>238</td>\n",
       "      <td>1.0</td>\n",
       "      <td>8.5</td>\n",
       "      <td>3.0</td>\n",
       "      <td>0.5</td>\n",
       "      <td>0.0</td>\n",
       "      <td>0.0</td>\n",
       "      <td>0.3</td>\n",
       "      <td>12.3</td>\n",
       "      <td>2.5</td>\n",
       "    </tr>\n",
       "  </tbody>\n",
       "</table>\n",
       "</div>"
      ],
      "text/plain": [
       "   VendorID tpep_pickup_datetime tpep_dropoff_datetime  passenger_count  \\\n",
       "0       1.0  2021-07-01 00:08:51   2021-07-01 00:13:05              1.0   \n",
       "1       1.0  2021-07-01 00:22:39   2021-07-01 00:25:58              1.0   \n",
       "2       1.0  2021-07-01 00:48:33   2021-07-01 00:54:58              1.0   \n",
       "3       1.0  2021-07-01 00:59:44   2021-07-01 01:07:09              1.0   \n",
       "4       1.0  2021-07-01 00:08:35   2021-07-01 00:16:28              0.0   \n",
       "\n",
       "   trip_distance  RatecodeID store_and_fwd_flag  PULocationID  DOLocationID  \\\n",
       "0            0.8         1.0                  N            90            68   \n",
       "1            0.9         1.0                  N           113            90   \n",
       "2            2.8         1.0                  N            88           232   \n",
       "3            1.4         1.0                  N            79           249   \n",
       "4            2.0         1.0                  N           142           238   \n",
       "\n",
       "   payment_type  fare_amount  extra  mta_tax  tip_amount  tolls_amount  \\\n",
       "0           1.0          5.0    3.0      0.5         0.0           0.0   \n",
       "1           2.0          5.0    3.0      0.5         0.0           0.0   \n",
       "2           2.0         10.0    3.0      0.5         0.0           0.0   \n",
       "3           1.0          7.0    3.0      0.5         1.5           0.0   \n",
       "4           1.0          8.5    3.0      0.5         0.0           0.0   \n",
       "\n",
       "   improvement_surcharge  total_amount  congestion_surcharge  \n",
       "0                    0.3           8.8                   2.5  \n",
       "1                    0.3           8.8                   2.5  \n",
       "2                    0.3          13.8                   2.5  \n",
       "3                    0.3          12.3                   2.5  \n",
       "4                    0.3          12.3                   2.5  "
      ]
     },
     "execution_count": 4,
     "metadata": {},
     "output_type": "execute_result"
    }
   ],
   "source": [
    "df.head(5)"
   ]
  },
  {
   "cell_type": "code",
   "execution_count": 5,
   "id": "199c73ed",
   "metadata": {},
   "outputs": [
    {
     "data": {
      "text/html": [
       "<div>\n",
       "<style scoped>\n",
       "    .dataframe tbody tr th:only-of-type {\n",
       "        vertical-align: middle;\n",
       "    }\n",
       "\n",
       "    .dataframe tbody tr th {\n",
       "        vertical-align: top;\n",
       "    }\n",
       "\n",
       "    .dataframe thead th {\n",
       "        text-align: right;\n",
       "    }\n",
       "</style>\n",
       "<table border=\"1\" class=\"dataframe\">\n",
       "  <thead>\n",
       "    <tr style=\"text-align: right;\">\n",
       "      <th></th>\n",
       "      <th>VendorID</th>\n",
       "      <th>tpep_pickup_datetime</th>\n",
       "      <th>tpep_dropoff_datetime</th>\n",
       "      <th>passenger_count</th>\n",
       "      <th>trip_distance</th>\n",
       "      <th>RatecodeID</th>\n",
       "      <th>store_and_fwd_flag</th>\n",
       "      <th>PULocationID</th>\n",
       "      <th>DOLocationID</th>\n",
       "      <th>payment_type</th>\n",
       "      <th>fare_amount</th>\n",
       "      <th>extra</th>\n",
       "      <th>mta_tax</th>\n",
       "      <th>tip_amount</th>\n",
       "      <th>tolls_amount</th>\n",
       "      <th>improvement_surcharge</th>\n",
       "      <th>total_amount</th>\n",
       "      <th>congestion_surcharge</th>\n",
       "    </tr>\n",
       "  </thead>\n",
       "  <tbody>\n",
       "    <tr>\n",
       "      <th>2821510</th>\n",
       "      <td>NaN</td>\n",
       "      <td>2021-07-09 18:07:09</td>\n",
       "      <td>2021-07-09 18:27:04</td>\n",
       "      <td>NaN</td>\n",
       "      <td>2.60</td>\n",
       "      <td>NaN</td>\n",
       "      <td>NaN</td>\n",
       "      <td>68</td>\n",
       "      <td>144</td>\n",
       "      <td>NaN</td>\n",
       "      <td>14.00</td>\n",
       "      <td>1.00</td>\n",
       "      <td>0.5</td>\n",
       "      <td>2.75</td>\n",
       "      <td>0.0</td>\n",
       "      <td>0.3</td>\n",
       "      <td>21.05</td>\n",
       "      <td>2.5</td>\n",
       "    </tr>\n",
       "    <tr>\n",
       "      <th>2821511</th>\n",
       "      <td>NaN</td>\n",
       "      <td>2021-07-09 18:16:00</td>\n",
       "      <td>2021-07-09 18:57:00</td>\n",
       "      <td>NaN</td>\n",
       "      <td>12.47</td>\n",
       "      <td>NaN</td>\n",
       "      <td>NaN</td>\n",
       "      <td>92</td>\n",
       "      <td>144</td>\n",
       "      <td>NaN</td>\n",
       "      <td>47.08</td>\n",
       "      <td>2.75</td>\n",
       "      <td>0.5</td>\n",
       "      <td>0.00</td>\n",
       "      <td>0.0</td>\n",
       "      <td>0.3</td>\n",
       "      <td>50.63</td>\n",
       "      <td>0.0</td>\n",
       "    </tr>\n",
       "    <tr>\n",
       "      <th>2821512</th>\n",
       "      <td>NaN</td>\n",
       "      <td>2021-07-09 18:07:46</td>\n",
       "      <td>2021-07-09 19:07:06</td>\n",
       "      <td>NaN</td>\n",
       "      <td>3.01</td>\n",
       "      <td>NaN</td>\n",
       "      <td>NaN</td>\n",
       "      <td>265</td>\n",
       "      <td>249</td>\n",
       "      <td>NaN</td>\n",
       "      <td>23.96</td>\n",
       "      <td>0.00</td>\n",
       "      <td>0.5</td>\n",
       "      <td>0.00</td>\n",
       "      <td>0.0</td>\n",
       "      <td>0.3</td>\n",
       "      <td>24.76</td>\n",
       "      <td>0.0</td>\n",
       "    </tr>\n",
       "    <tr>\n",
       "      <th>2821513</th>\n",
       "      <td>NaN</td>\n",
       "      <td>2021-07-09 18:17:00</td>\n",
       "      <td>2021-07-09 18:42:00</td>\n",
       "      <td>NaN</td>\n",
       "      <td>6.67</td>\n",
       "      <td>NaN</td>\n",
       "      <td>NaN</td>\n",
       "      <td>262</td>\n",
       "      <td>211</td>\n",
       "      <td>NaN</td>\n",
       "      <td>24.24</td>\n",
       "      <td>0.00</td>\n",
       "      <td>0.5</td>\n",
       "      <td>5.96</td>\n",
       "      <td>0.0</td>\n",
       "      <td>0.3</td>\n",
       "      <td>33.50</td>\n",
       "      <td>2.5</td>\n",
       "    </tr>\n",
       "    <tr>\n",
       "      <th>2821514</th>\n",
       "      <td>NaN</td>\n",
       "      <td>2021-07-09 18:11:00</td>\n",
       "      <td>2021-07-09 18:30:00</td>\n",
       "      <td>NaN</td>\n",
       "      <td>3.51</td>\n",
       "      <td>NaN</td>\n",
       "      <td>NaN</td>\n",
       "      <td>232</td>\n",
       "      <td>68</td>\n",
       "      <td>NaN</td>\n",
       "      <td>15.27</td>\n",
       "      <td>0.00</td>\n",
       "      <td>0.5</td>\n",
       "      <td>3.96</td>\n",
       "      <td>0.0</td>\n",
       "      <td>0.3</td>\n",
       "      <td>22.53</td>\n",
       "      <td>2.5</td>\n",
       "    </tr>\n",
       "  </tbody>\n",
       "</table>\n",
       "</div>"
      ],
      "text/plain": [
       "         VendorID tpep_pickup_datetime tpep_dropoff_datetime  passenger_count  \\\n",
       "2821510       NaN  2021-07-09 18:07:09   2021-07-09 18:27:04              NaN   \n",
       "2821511       NaN  2021-07-09 18:16:00   2021-07-09 18:57:00              NaN   \n",
       "2821512       NaN  2021-07-09 18:07:46   2021-07-09 19:07:06              NaN   \n",
       "2821513       NaN  2021-07-09 18:17:00   2021-07-09 18:42:00              NaN   \n",
       "2821514       NaN  2021-07-09 18:11:00   2021-07-09 18:30:00              NaN   \n",
       "\n",
       "         trip_distance  RatecodeID store_and_fwd_flag  PULocationID  \\\n",
       "2821510           2.60         NaN                NaN            68   \n",
       "2821511          12.47         NaN                NaN            92   \n",
       "2821512           3.01         NaN                NaN           265   \n",
       "2821513           6.67         NaN                NaN           262   \n",
       "2821514           3.51         NaN                NaN           232   \n",
       "\n",
       "         DOLocationID  payment_type  fare_amount  extra  mta_tax  tip_amount  \\\n",
       "2821510           144           NaN        14.00   1.00      0.5        2.75   \n",
       "2821511           144           NaN        47.08   2.75      0.5        0.00   \n",
       "2821512           249           NaN        23.96   0.00      0.5        0.00   \n",
       "2821513           211           NaN        24.24   0.00      0.5        5.96   \n",
       "2821514            68           NaN        15.27   0.00      0.5        3.96   \n",
       "\n",
       "         tolls_amount  improvement_surcharge  total_amount  \\\n",
       "2821510           0.0                    0.3         21.05   \n",
       "2821511           0.0                    0.3         50.63   \n",
       "2821512           0.0                    0.3         24.76   \n",
       "2821513           0.0                    0.3         33.50   \n",
       "2821514           0.0                    0.3         22.53   \n",
       "\n",
       "         congestion_surcharge  \n",
       "2821510                   2.5  \n",
       "2821511                   0.0  \n",
       "2821512                   0.0  \n",
       "2821513                   2.5  \n",
       "2821514                   2.5  "
      ]
     },
     "execution_count": 5,
     "metadata": {},
     "output_type": "execute_result"
    }
   ],
   "source": [
    "df.tail(5)\n"
   ]
  },
  {
   "cell_type": "code",
   "execution_count": 6,
   "id": "ee0c4c13",
   "metadata": {},
   "outputs": [
    {
     "data": {
      "text/html": [
       "<div>\n",
       "<style scoped>\n",
       "    .dataframe tbody tr th:only-of-type {\n",
       "        vertical-align: middle;\n",
       "    }\n",
       "\n",
       "    .dataframe tbody tr th {\n",
       "        vertical-align: top;\n",
       "    }\n",
       "\n",
       "    .dataframe thead th {\n",
       "        text-align: right;\n",
       "    }\n",
       "</style>\n",
       "<table border=\"1\" class=\"dataframe\">\n",
       "  <thead>\n",
       "    <tr style=\"text-align: right;\">\n",
       "      <th></th>\n",
       "      <th>VendorID</th>\n",
       "      <th>tpep_pickup_datetime</th>\n",
       "      <th>tpep_dropoff_datetime</th>\n",
       "      <th>passenger_count</th>\n",
       "      <th>trip_distance</th>\n",
       "      <th>RatecodeID</th>\n",
       "      <th>store_and_fwd_flag</th>\n",
       "      <th>PULocationID</th>\n",
       "      <th>DOLocationID</th>\n",
       "      <th>payment_type</th>\n",
       "      <th>fare_amount</th>\n",
       "      <th>extra</th>\n",
       "      <th>mta_tax</th>\n",
       "      <th>tip_amount</th>\n",
       "      <th>tolls_amount</th>\n",
       "      <th>improvement_surcharge</th>\n",
       "      <th>total_amount</th>\n",
       "      <th>congestion_surcharge</th>\n",
       "    </tr>\n",
       "  </thead>\n",
       "  <tbody>\n",
       "    <tr>\n",
       "      <th>617902</th>\n",
       "      <td>2.0</td>\n",
       "      <td>2021-07-08 21:18:00</td>\n",
       "      <td>2021-07-08 21:38:24</td>\n",
       "      <td>2.0</td>\n",
       "      <td>4.54</td>\n",
       "      <td>1.0</td>\n",
       "      <td>N</td>\n",
       "      <td>264</td>\n",
       "      <td>13</td>\n",
       "      <td>1.0</td>\n",
       "      <td>16.5</td>\n",
       "      <td>0.50</td>\n",
       "      <td>0.5</td>\n",
       "      <td>3.50</td>\n",
       "      <td>0.00</td>\n",
       "      <td>0.3</td>\n",
       "      <td>23.80</td>\n",
       "      <td>2.5</td>\n",
       "    </tr>\n",
       "    <tr>\n",
       "      <th>2559760</th>\n",
       "      <td>2.0</td>\n",
       "      <td>2021-07-30 16:37:11</td>\n",
       "      <td>2021-07-30 16:37:25</td>\n",
       "      <td>1.0</td>\n",
       "      <td>0.00</td>\n",
       "      <td>1.0</td>\n",
       "      <td>N</td>\n",
       "      <td>193</td>\n",
       "      <td>193</td>\n",
       "      <td>1.0</td>\n",
       "      <td>2.5</td>\n",
       "      <td>1.00</td>\n",
       "      <td>0.5</td>\n",
       "      <td>0.00</td>\n",
       "      <td>0.00</td>\n",
       "      <td>0.3</td>\n",
       "      <td>4.30</td>\n",
       "      <td>0.0</td>\n",
       "    </tr>\n",
       "    <tr>\n",
       "      <th>804783</th>\n",
       "      <td>1.0</td>\n",
       "      <td>2021-07-10 23:27:21</td>\n",
       "      <td>2021-07-10 23:38:50</td>\n",
       "      <td>2.0</td>\n",
       "      <td>1.80</td>\n",
       "      <td>1.0</td>\n",
       "      <td>N</td>\n",
       "      <td>114</td>\n",
       "      <td>231</td>\n",
       "      <td>1.0</td>\n",
       "      <td>9.5</td>\n",
       "      <td>3.00</td>\n",
       "      <td>0.5</td>\n",
       "      <td>2.00</td>\n",
       "      <td>0.00</td>\n",
       "      <td>0.3</td>\n",
       "      <td>15.30</td>\n",
       "      <td>2.5</td>\n",
       "    </tr>\n",
       "    <tr>\n",
       "      <th>1339218</th>\n",
       "      <td>2.0</td>\n",
       "      <td>2021-07-16 21:13:56</td>\n",
       "      <td>2021-07-16 21:37:56</td>\n",
       "      <td>6.0</td>\n",
       "      <td>3.50</td>\n",
       "      <td>1.0</td>\n",
       "      <td>N</td>\n",
       "      <td>100</td>\n",
       "      <td>231</td>\n",
       "      <td>1.0</td>\n",
       "      <td>16.5</td>\n",
       "      <td>0.50</td>\n",
       "      <td>0.5</td>\n",
       "      <td>5.08</td>\n",
       "      <td>0.00</td>\n",
       "      <td>0.3</td>\n",
       "      <td>25.38</td>\n",
       "      <td>2.5</td>\n",
       "    </tr>\n",
       "    <tr>\n",
       "      <th>1873769</th>\n",
       "      <td>2.0</td>\n",
       "      <td>2021-07-22 21:18:18</td>\n",
       "      <td>2021-07-22 21:57:33</td>\n",
       "      <td>1.0</td>\n",
       "      <td>15.55</td>\n",
       "      <td>1.0</td>\n",
       "      <td>N</td>\n",
       "      <td>132</td>\n",
       "      <td>145</td>\n",
       "      <td>1.0</td>\n",
       "      <td>44.5</td>\n",
       "      <td>0.50</td>\n",
       "      <td>0.5</td>\n",
       "      <td>5.95</td>\n",
       "      <td>0.00</td>\n",
       "      <td>0.3</td>\n",
       "      <td>53.00</td>\n",
       "      <td>0.0</td>\n",
       "    </tr>\n",
       "    <tr>\n",
       "      <th>317047</th>\n",
       "      <td>1.0</td>\n",
       "      <td>2021-07-05 13:40:49</td>\n",
       "      <td>2021-07-05 13:49:57</td>\n",
       "      <td>1.0</td>\n",
       "      <td>1.60</td>\n",
       "      <td>1.0</td>\n",
       "      <td>N</td>\n",
       "      <td>236</td>\n",
       "      <td>142</td>\n",
       "      <td>1.0</td>\n",
       "      <td>9.0</td>\n",
       "      <td>2.50</td>\n",
       "      <td>0.5</td>\n",
       "      <td>2.00</td>\n",
       "      <td>0.00</td>\n",
       "      <td>0.3</td>\n",
       "      <td>14.30</td>\n",
       "      <td>2.5</td>\n",
       "    </tr>\n",
       "    <tr>\n",
       "      <th>1046962</th>\n",
       "      <td>2.0</td>\n",
       "      <td>2021-07-13 22:04:42</td>\n",
       "      <td>2021-07-13 22:21:01</td>\n",
       "      <td>1.0</td>\n",
       "      <td>11.62</td>\n",
       "      <td>1.0</td>\n",
       "      <td>N</td>\n",
       "      <td>264</td>\n",
       "      <td>218</td>\n",
       "      <td>2.0</td>\n",
       "      <td>32.0</td>\n",
       "      <td>0.50</td>\n",
       "      <td>0.5</td>\n",
       "      <td>0.00</td>\n",
       "      <td>0.00</td>\n",
       "      <td>0.3</td>\n",
       "      <td>33.30</td>\n",
       "      <td>0.0</td>\n",
       "    </tr>\n",
       "    <tr>\n",
       "      <th>1797920</th>\n",
       "      <td>2.0</td>\n",
       "      <td>2021-07-22 09:25:01</td>\n",
       "      <td>2021-07-22 09:36:31</td>\n",
       "      <td>3.0</td>\n",
       "      <td>1.44</td>\n",
       "      <td>1.0</td>\n",
       "      <td>N</td>\n",
       "      <td>141</td>\n",
       "      <td>263</td>\n",
       "      <td>2.0</td>\n",
       "      <td>9.0</td>\n",
       "      <td>0.00</td>\n",
       "      <td>0.5</td>\n",
       "      <td>0.00</td>\n",
       "      <td>0.00</td>\n",
       "      <td>0.3</td>\n",
       "      <td>12.30</td>\n",
       "      <td>2.5</td>\n",
       "    </tr>\n",
       "    <tr>\n",
       "      <th>2604304</th>\n",
       "      <td>2.0</td>\n",
       "      <td>2021-07-31 00:39:49</td>\n",
       "      <td>2021-07-31 00:57:11</td>\n",
       "      <td>2.0</td>\n",
       "      <td>4.89</td>\n",
       "      <td>1.0</td>\n",
       "      <td>N</td>\n",
       "      <td>230</td>\n",
       "      <td>261</td>\n",
       "      <td>1.0</td>\n",
       "      <td>16.5</td>\n",
       "      <td>0.50</td>\n",
       "      <td>0.5</td>\n",
       "      <td>4.06</td>\n",
       "      <td>0.00</td>\n",
       "      <td>0.3</td>\n",
       "      <td>24.36</td>\n",
       "      <td>2.5</td>\n",
       "    </tr>\n",
       "    <tr>\n",
       "      <th>2103768</th>\n",
       "      <td>1.0</td>\n",
       "      <td>2021-07-25 15:46:07</td>\n",
       "      <td>2021-07-25 16:16:50</td>\n",
       "      <td>1.0</td>\n",
       "      <td>10.70</td>\n",
       "      <td>1.0</td>\n",
       "      <td>N</td>\n",
       "      <td>138</td>\n",
       "      <td>249</td>\n",
       "      <td>1.0</td>\n",
       "      <td>32.5</td>\n",
       "      <td>3.75</td>\n",
       "      <td>0.5</td>\n",
       "      <td>6.00</td>\n",
       "      <td>6.55</td>\n",
       "      <td>0.3</td>\n",
       "      <td>49.60</td>\n",
       "      <td>2.5</td>\n",
       "    </tr>\n",
       "  </tbody>\n",
       "</table>\n",
       "</div>"
      ],
      "text/plain": [
       "         VendorID tpep_pickup_datetime tpep_dropoff_datetime  passenger_count  \\\n",
       "617902        2.0  2021-07-08 21:18:00   2021-07-08 21:38:24              2.0   \n",
       "2559760       2.0  2021-07-30 16:37:11   2021-07-30 16:37:25              1.0   \n",
       "804783        1.0  2021-07-10 23:27:21   2021-07-10 23:38:50              2.0   \n",
       "1339218       2.0  2021-07-16 21:13:56   2021-07-16 21:37:56              6.0   \n",
       "1873769       2.0  2021-07-22 21:18:18   2021-07-22 21:57:33              1.0   \n",
       "317047        1.0  2021-07-05 13:40:49   2021-07-05 13:49:57              1.0   \n",
       "1046962       2.0  2021-07-13 22:04:42   2021-07-13 22:21:01              1.0   \n",
       "1797920       2.0  2021-07-22 09:25:01   2021-07-22 09:36:31              3.0   \n",
       "2604304       2.0  2021-07-31 00:39:49   2021-07-31 00:57:11              2.0   \n",
       "2103768       1.0  2021-07-25 15:46:07   2021-07-25 16:16:50              1.0   \n",
       "\n",
       "         trip_distance  RatecodeID store_and_fwd_flag  PULocationID  \\\n",
       "617902            4.54         1.0                  N           264   \n",
       "2559760           0.00         1.0                  N           193   \n",
       "804783            1.80         1.0                  N           114   \n",
       "1339218           3.50         1.0                  N           100   \n",
       "1873769          15.55         1.0                  N           132   \n",
       "317047            1.60         1.0                  N           236   \n",
       "1046962          11.62         1.0                  N           264   \n",
       "1797920           1.44         1.0                  N           141   \n",
       "2604304           4.89         1.0                  N           230   \n",
       "2103768          10.70         1.0                  N           138   \n",
       "\n",
       "         DOLocationID  payment_type  fare_amount  extra  mta_tax  tip_amount  \\\n",
       "617902             13           1.0         16.5   0.50      0.5        3.50   \n",
       "2559760           193           1.0          2.5   1.00      0.5        0.00   \n",
       "804783            231           1.0          9.5   3.00      0.5        2.00   \n",
       "1339218           231           1.0         16.5   0.50      0.5        5.08   \n",
       "1873769           145           1.0         44.5   0.50      0.5        5.95   \n",
       "317047            142           1.0          9.0   2.50      0.5        2.00   \n",
       "1046962           218           2.0         32.0   0.50      0.5        0.00   \n",
       "1797920           263           2.0          9.0   0.00      0.5        0.00   \n",
       "2604304           261           1.0         16.5   0.50      0.5        4.06   \n",
       "2103768           249           1.0         32.5   3.75      0.5        6.00   \n",
       "\n",
       "         tolls_amount  improvement_surcharge  total_amount  \\\n",
       "617902           0.00                    0.3         23.80   \n",
       "2559760          0.00                    0.3          4.30   \n",
       "804783           0.00                    0.3         15.30   \n",
       "1339218          0.00                    0.3         25.38   \n",
       "1873769          0.00                    0.3         53.00   \n",
       "317047           0.00                    0.3         14.30   \n",
       "1046962          0.00                    0.3         33.30   \n",
       "1797920          0.00                    0.3         12.30   \n",
       "2604304          0.00                    0.3         24.36   \n",
       "2103768          6.55                    0.3         49.60   \n",
       "\n",
       "         congestion_surcharge  \n",
       "617902                    2.5  \n",
       "2559760                   0.0  \n",
       "804783                    2.5  \n",
       "1339218                   2.5  \n",
       "1873769                   0.0  \n",
       "317047                    2.5  \n",
       "1046962                   0.0  \n",
       "1797920                   2.5  \n",
       "2604304                   2.5  \n",
       "2103768                   2.5  "
      ]
     },
     "execution_count": 6,
     "metadata": {},
     "output_type": "execute_result"
    }
   ],
   "source": [
    "df.sample(10)"
   ]
  },
  {
   "cell_type": "code",
   "execution_count": 7,
   "id": "18e6efe9",
   "metadata": {},
   "outputs": [],
   "source": [
    "#split the df data for train and test\n",
    "df_train,df_test=train_test_split(df, test_size=.01, random_state=199)"
   ]
  },
  {
   "cell_type": "code",
   "execution_count": 8,
   "id": "d892b5b0",
   "metadata": {},
   "outputs": [],
   "source": [
    "#split the df_train data for train and valudation\n",
    "df_train,df_val = train_test_split(df_train, test_size=.01, random_state=199)"
   ]
  },
  {
   "cell_type": "code",
   "execution_count": 9,
   "id": "224b4004",
   "metadata": {},
   "outputs": [
    {
     "data": {
      "text/plain": [
       "(2765366, 18)"
      ]
     },
     "execution_count": 9,
     "metadata": {},
     "output_type": "execute_result"
    }
   ],
   "source": [
    "#number of rows and columns \n",
    "df_train.shape"
   ]
  },
  {
   "cell_type": "code",
   "execution_count": 10,
   "id": "4e40970d",
   "metadata": {},
   "outputs": [
    {
     "data": {
      "text/plain": [
       "(28216, 18)"
      ]
     },
     "execution_count": 10,
     "metadata": {},
     "output_type": "execute_result"
    }
   ],
   "source": [
    "#number of rows and columns \n",
    "df_test.shape"
   ]
  },
  {
   "cell_type": "code",
   "execution_count": 11,
   "id": "4ace094b",
   "metadata": {},
   "outputs": [
    {
     "data": {
      "text/plain": [
       "(27933, 18)"
      ]
     },
     "execution_count": 11,
     "metadata": {},
     "output_type": "execute_result"
    }
   ],
   "source": [
    "#number of rows and columns \n",
    "df_val.shape"
   ]
  },
  {
   "cell_type": "code",
   "execution_count": 12,
   "id": "6ad721e1",
   "metadata": {
    "scrolled": false
   },
   "outputs": [
    {
     "name": "stdout",
     "output_type": "stream",
     "text": [
      "<class 'pandas.core.frame.DataFrame'>\n",
      "Int64Index: 2765366 entries, 1893944 to 292431\n",
      "Data columns (total 18 columns):\n",
      " #   Column                 Dtype  \n",
      "---  ------                 -----  \n",
      " 0   VendorID               float64\n",
      " 1   tpep_pickup_datetime   object \n",
      " 2   tpep_dropoff_datetime  object \n",
      " 3   passenger_count        float64\n",
      " 4   trip_distance          float64\n",
      " 5   RatecodeID             float64\n",
      " 6   store_and_fwd_flag     object \n",
      " 7   PULocationID           int64  \n",
      " 8   DOLocationID           int64  \n",
      " 9   payment_type           float64\n",
      " 10  fare_amount            float64\n",
      " 11  extra                  float64\n",
      " 12  mta_tax                float64\n",
      " 13  tip_amount             float64\n",
      " 14  tolls_amount           float64\n",
      " 15  improvement_surcharge  float64\n",
      " 16  total_amount           float64\n",
      " 17  congestion_surcharge   float64\n",
      "dtypes: float64(13), int64(2), object(3)\n",
      "memory usage: 400.9+ MB\n"
     ]
    }
   ],
   "source": [
    "df_train.info()"
   ]
  },
  {
   "cell_type": "markdown",
   "id": "92499059",
   "metadata": {},
   "source": [
    "## Data Pre-Processing for data train"
   ]
  },
  {
   "cell_type": "code",
   "execution_count": 13,
   "id": "e07547eb",
   "metadata": {},
   "outputs": [],
   "source": [
    "#drop in useful column that contains data it will not be used in data analysis \n",
    "df_train=df_train.drop('store_and_fwd_flag', axis=1)"
   ]
  },
  {
   "cell_type": "code",
   "execution_count": 14,
   "id": "174fcb7b",
   "metadata": {},
   "outputs": [
    {
     "data": {
      "text/plain": [
       "(2765366, 17)"
      ]
     },
     "execution_count": 14,
     "metadata": {},
     "output_type": "execute_result"
    }
   ],
   "source": [
    "df_train.shape"
   ]
  },
  {
   "cell_type": "markdown",
   "id": "a4de9268",
   "metadata": {},
   "source": [
    "#### Check if there are NULL value "
   ]
  },
  {
   "cell_type": "code",
   "execution_count": 15,
   "id": "4707251f",
   "metadata": {
    "scrolled": false
   },
   "outputs": [
    {
     "data": {
      "text/plain": [
       "VendorID                 128068\n",
       "tpep_pickup_datetime          0\n",
       "tpep_dropoff_datetime         0\n",
       "passenger_count          128068\n",
       "trip_distance                 0\n",
       "RatecodeID               128068\n",
       "PULocationID                  0\n",
       "DOLocationID                  0\n",
       "payment_type             128068\n",
       "fare_amount                   0\n",
       "extra                         0\n",
       "mta_tax                       0\n",
       "tip_amount                    0\n",
       "tolls_amount                  0\n",
       "improvement_surcharge         0\n",
       "total_amount                  0\n",
       "congestion_surcharge          0\n",
       "dtype: int64"
      ]
     },
     "execution_count": 15,
     "metadata": {},
     "output_type": "execute_result"
    }
   ],
   "source": [
    "df_train.isnull().sum()"
   ]
  },
  {
   "cell_type": "code",
   "execution_count": 16,
   "id": "1ff73255",
   "metadata": {},
   "outputs": [],
   "source": [
    "# drop Null\n",
    "df_train=df_train.dropna(how='any')"
   ]
  },
  {
   "cell_type": "code",
   "execution_count": 17,
   "id": "7d0fbb47",
   "metadata": {},
   "outputs": [
    {
     "data": {
      "text/plain": [
       "VendorID                 0\n",
       "tpep_pickup_datetime     0\n",
       "tpep_dropoff_datetime    0\n",
       "passenger_count          0\n",
       "trip_distance            0\n",
       "RatecodeID               0\n",
       "PULocationID             0\n",
       "DOLocationID             0\n",
       "payment_type             0\n",
       "fare_amount              0\n",
       "extra                    0\n",
       "mta_tax                  0\n",
       "tip_amount               0\n",
       "tolls_amount             0\n",
       "improvement_surcharge    0\n",
       "total_amount             0\n",
       "congestion_surcharge     0\n",
       "dtype: int64"
      ]
     },
     "execution_count": 17,
     "metadata": {},
     "output_type": "execute_result"
    }
   ],
   "source": [
    "df_train.isnull().sum()"
   ]
  },
  {
   "cell_type": "code",
   "execution_count": 18,
   "id": "7f4a32f0",
   "metadata": {
    "scrolled": true
   },
   "outputs": [
    {
     "data": {
      "text/plain": [
       "1.0    1988014\n",
       "2.0     623963\n",
       "3.0      13924\n",
       "4.0      11396\n",
       "5.0          1\n",
       "Name: payment_type, dtype: int64"
      ]
     },
     "execution_count": 18,
     "metadata": {},
     "output_type": "execute_result"
    }
   ],
   "source": [
    "#Check the outlier value\n",
    "df_train['payment_type'].value_counts()"
   ]
  },
  {
   "cell_type": "code",
   "execution_count": 19,
   "id": "cc3e4acf",
   "metadata": {},
   "outputs": [],
   "source": [
    "#drop the 5\n",
    "df_train=df_train.drop(df_train[df_train.payment_type.values==5].index)"
   ]
  },
  {
   "cell_type": "code",
   "execution_count": 20,
   "id": "eaa0784c",
   "metadata": {},
   "outputs": [
    {
     "data": {
      "text/plain": [
       "1.0    1988014\n",
       "2.0     623963\n",
       "3.0      13924\n",
       "4.0      11396\n",
       "Name: payment_type, dtype: int64"
      ]
     },
     "execution_count": 20,
     "metadata": {},
     "output_type": "execute_result"
    }
   ],
   "source": [
    "df_train['payment_type'].value_counts()"
   ]
  },
  {
   "cell_type": "code",
   "execution_count": 21,
   "id": "ab8664c0",
   "metadata": {},
   "outputs": [
    {
     "data": {
      "text/plain": [
       "1.0    1887983\n",
       "2.0     406755\n",
       "3.0     113985\n",
       "5.0      70303\n",
       "0.0      65431\n",
       "4.0      49640\n",
       "6.0      43186\n",
       "9.0          5\n",
       "7.0          5\n",
       "8.0          4\n",
       "Name: passenger_count, dtype: int64"
      ]
     },
     "execution_count": 21,
     "metadata": {},
     "output_type": "execute_result"
    }
   ],
   "source": [
    "#Check the outlier value\n",
    "df_train['passenger_count'].value_counts()"
   ]
  },
  {
   "cell_type": "code",
   "execution_count": 22,
   "id": "72939670",
   "metadata": {},
   "outputs": [],
   "source": [
    "#drop the 0,9,7,8\n",
    "df_train=df_train.drop(df_train[df_train.passenger_count.values==0].index)\n",
    "df_train=df_train.drop(df_train[df_train.passenger_count.values==9].index)\n",
    "df_train=df_train.drop(df_train[df_train.passenger_count.values==8].index)\n",
    "df_train=df_train.drop(df_train[df_train.passenger_count.values==7].index)"
   ]
  },
  {
   "cell_type": "code",
   "execution_count": 23,
   "id": "dd32bee1",
   "metadata": {},
   "outputs": [
    {
     "data": {
      "text/plain": [
       "1.0    1887983\n",
       "2.0     406755\n",
       "3.0     113985\n",
       "5.0      70303\n",
       "4.0      49640\n",
       "6.0      43186\n",
       "Name: passenger_count, dtype: int64"
      ]
     },
     "execution_count": 23,
     "metadata": {},
     "output_type": "execute_result"
    }
   ],
   "source": [
    "df_train['passenger_count'].value_counts()"
   ]
  },
  {
   "cell_type": "code",
   "execution_count": 24,
   "id": "5380e44f",
   "metadata": {},
   "outputs": [],
   "source": [
    "#drop the negative value \n",
    "df_train=df_train.drop(df_train[df_train.total_amount.values<=0].index)"
   ]
  },
  {
   "cell_type": "code",
   "execution_count": 25,
   "id": "aed361e4",
   "metadata": {},
   "outputs": [],
   "source": [
    "#drop the negative value \n",
    "df_train=df_train.drop(df_train[df_train.trip_distance.values<=0].index)"
   ]
  },
  {
   "cell_type": "code",
   "execution_count": 26,
   "id": "76ea0bbc",
   "metadata": {
    "scrolled": true
   },
   "outputs": [
    {
     "data": {
      "text/plain": [
       "(2530493, 17)"
      ]
     },
     "execution_count": 26,
     "metadata": {},
     "output_type": "execute_result"
    }
   ],
   "source": [
    "df_train.shape"
   ]
  },
  {
   "cell_type": "code",
   "execution_count": 27,
   "id": "0303c3e7",
   "metadata": {},
   "outputs": [],
   "source": [
    "#df_train_sample=df_train.sample(100000,random_state=199 )"
   ]
  },
  {
   "cell_type": "code",
   "execution_count": 28,
   "id": "851be761",
   "metadata": {},
   "outputs": [],
   "source": [
    "#df_train_sample.total_amount.describe()"
   ]
  },
  {
   "cell_type": "code",
   "execution_count": 29,
   "id": "f8362fb8",
   "metadata": {},
   "outputs": [
    {
     "data": {
      "text/plain": [
       "<bound method Series.unique of 1893944    1.0\n",
       "474787     2.0\n",
       "2462355    1.0\n",
       "1503423    1.0\n",
       "1452644    1.0\n",
       "          ... \n",
       "722518     1.0\n",
       "123269     1.0\n",
       "1906657    1.0\n",
       "969865     1.0\n",
       "292431     2.0\n",
       "Name: passenger_count, Length: 2530493, dtype: float64>"
      ]
     },
     "execution_count": 29,
     "metadata": {},
     "output_type": "execute_result"
    }
   ],
   "source": [
    "df_train.passenger_count.unique"
   ]
  },
  {
   "cell_type": "code",
   "execution_count": 30,
   "id": "8a9792a6",
   "metadata": {},
   "outputs": [
    {
     "data": {
      "text/plain": [
       "1893944    1\n",
       "474787     2\n",
       "2462355    1\n",
       "1503423    1\n",
       "1452644    1\n",
       "          ..\n",
       "722518     1\n",
       "123269     1\n",
       "1906657    1\n",
       "969865     1\n",
       "292431     2\n",
       "Name: passenger_count, Length: 2530493, dtype: int64"
      ]
     },
     "execution_count": 30,
     "metadata": {},
     "output_type": "execute_result"
    }
   ],
   "source": [
    "# change data type of feature (passenger_count) from float to integer\n",
    "df_train['passenger_count'].astype(int)"
   ]
  },
  {
   "cell_type": "code",
   "execution_count": 31,
   "id": "5be2d226",
   "metadata": {},
   "outputs": [],
   "source": [
    "# creat a function to change a data type of (passenger_count) from intger to string to be a category.\n",
    "def car_type(passenger_count):\n",
    "    if passenger_count >= 4:\n",
    "        return 'family'\n",
    "    else:\n",
    "        return 'basic'\n",
    "### 6\n",
    "\n"
   ]
  },
  {
   "cell_type": "code",
   "execution_count": 32,
   "id": "59fee076",
   "metadata": {},
   "outputs": [
    {
     "data": {
      "text/plain": [
       "1893944    basic\n",
       "474787     basic\n",
       "2462355    basic\n",
       "1503423    basic\n",
       "1452644    basic\n",
       "           ...  \n",
       "722518     basic\n",
       "123269     basic\n",
       "1906657    basic\n",
       "969865     basic\n",
       "292431     basic\n",
       "Name: car_type, Length: 2530493, dtype: object"
      ]
     },
     "execution_count": 32,
     "metadata": {},
     "output_type": "execute_result"
    }
   ],
   "source": [
    "# apply the function in all observitons \n",
    "df_train['car_type']= df_train.passenger_count.apply(car_type)\n",
    "df_train.car_type\n"
   ]
  },
  {
   "cell_type": "code",
   "execution_count": 33,
   "id": "6783763e",
   "metadata": {},
   "outputs": [
    {
     "data": {
      "text/html": [
       "<div>\n",
       "<style scoped>\n",
       "    .dataframe tbody tr th:only-of-type {\n",
       "        vertical-align: middle;\n",
       "    }\n",
       "\n",
       "    .dataframe tbody tr th {\n",
       "        vertical-align: top;\n",
       "    }\n",
       "\n",
       "    .dataframe thead th {\n",
       "        text-align: right;\n",
       "    }\n",
       "</style>\n",
       "<table border=\"1\" class=\"dataframe\">\n",
       "  <thead>\n",
       "    <tr style=\"text-align: right;\">\n",
       "      <th></th>\n",
       "      <th>VendorID</th>\n",
       "      <th>tpep_pickup_datetime</th>\n",
       "      <th>tpep_dropoff_datetime</th>\n",
       "      <th>passenger_count</th>\n",
       "      <th>trip_distance</th>\n",
       "      <th>RatecodeID</th>\n",
       "      <th>PULocationID</th>\n",
       "      <th>DOLocationID</th>\n",
       "      <th>payment_type</th>\n",
       "      <th>fare_amount</th>\n",
       "      <th>extra</th>\n",
       "      <th>mta_tax</th>\n",
       "      <th>tip_amount</th>\n",
       "      <th>tolls_amount</th>\n",
       "      <th>improvement_surcharge</th>\n",
       "      <th>total_amount</th>\n",
       "      <th>congestion_surcharge</th>\n",
       "      <th>car_type</th>\n",
       "    </tr>\n",
       "  </thead>\n",
       "  <tbody>\n",
       "    <tr>\n",
       "      <th>1893944</th>\n",
       "      <td>2.0</td>\n",
       "      <td>2021-07-23 08:55:24</td>\n",
       "      <td>2021-07-23 09:00:49</td>\n",
       "      <td>1.0</td>\n",
       "      <td>1.17</td>\n",
       "      <td>1.0</td>\n",
       "      <td>236</td>\n",
       "      <td>237</td>\n",
       "      <td>1.0</td>\n",
       "      <td>6.0</td>\n",
       "      <td>0.0</td>\n",
       "      <td>0.5</td>\n",
       "      <td>1.50</td>\n",
       "      <td>0.00</td>\n",
       "      <td>0.3</td>\n",
       "      <td>10.80</td>\n",
       "      <td>2.5</td>\n",
       "      <td>basic</td>\n",
       "    </tr>\n",
       "    <tr>\n",
       "      <th>474787</th>\n",
       "      <td>2.0</td>\n",
       "      <td>2021-07-07 12:47:35</td>\n",
       "      <td>2021-07-07 12:55:32</td>\n",
       "      <td>2.0</td>\n",
       "      <td>1.72</td>\n",
       "      <td>1.0</td>\n",
       "      <td>170</td>\n",
       "      <td>141</td>\n",
       "      <td>1.0</td>\n",
       "      <td>8.0</td>\n",
       "      <td>0.0</td>\n",
       "      <td>0.5</td>\n",
       "      <td>2.26</td>\n",
       "      <td>0.00</td>\n",
       "      <td>0.3</td>\n",
       "      <td>13.56</td>\n",
       "      <td>2.5</td>\n",
       "      <td>basic</td>\n",
       "    </tr>\n",
       "    <tr>\n",
       "      <th>2462355</th>\n",
       "      <td>2.0</td>\n",
       "      <td>2021-07-29 15:49:00</td>\n",
       "      <td>2021-07-29 16:01:10</td>\n",
       "      <td>1.0</td>\n",
       "      <td>1.90</td>\n",
       "      <td>1.0</td>\n",
       "      <td>142</td>\n",
       "      <td>141</td>\n",
       "      <td>1.0</td>\n",
       "      <td>10.0</td>\n",
       "      <td>0.0</td>\n",
       "      <td>0.5</td>\n",
       "      <td>3.32</td>\n",
       "      <td>0.00</td>\n",
       "      <td>0.3</td>\n",
       "      <td>16.62</td>\n",
       "      <td>2.5</td>\n",
       "      <td>basic</td>\n",
       "    </tr>\n",
       "    <tr>\n",
       "      <th>1503423</th>\n",
       "      <td>2.0</td>\n",
       "      <td>2021-07-18 19:19:25</td>\n",
       "      <td>2021-07-18 19:26:39</td>\n",
       "      <td>1.0</td>\n",
       "      <td>0.89</td>\n",
       "      <td>1.0</td>\n",
       "      <td>229</td>\n",
       "      <td>43</td>\n",
       "      <td>2.0</td>\n",
       "      <td>6.5</td>\n",
       "      <td>0.0</td>\n",
       "      <td>0.5</td>\n",
       "      <td>0.00</td>\n",
       "      <td>0.00</td>\n",
       "      <td>0.3</td>\n",
       "      <td>9.80</td>\n",
       "      <td>2.5</td>\n",
       "      <td>basic</td>\n",
       "    </tr>\n",
       "    <tr>\n",
       "      <th>1452644</th>\n",
       "      <td>2.0</td>\n",
       "      <td>2021-07-18 04:18:14</td>\n",
       "      <td>2021-07-18 04:53:22</td>\n",
       "      <td>1.0</td>\n",
       "      <td>8.32</td>\n",
       "      <td>1.0</td>\n",
       "      <td>186</td>\n",
       "      <td>75</td>\n",
       "      <td>2.0</td>\n",
       "      <td>30.0</td>\n",
       "      <td>0.5</td>\n",
       "      <td>0.5</td>\n",
       "      <td>0.00</td>\n",
       "      <td>0.00</td>\n",
       "      <td>0.3</td>\n",
       "      <td>33.80</td>\n",
       "      <td>2.5</td>\n",
       "      <td>basic</td>\n",
       "    </tr>\n",
       "    <tr>\n",
       "      <th>...</th>\n",
       "      <td>...</td>\n",
       "      <td>...</td>\n",
       "      <td>...</td>\n",
       "      <td>...</td>\n",
       "      <td>...</td>\n",
       "      <td>...</td>\n",
       "      <td>...</td>\n",
       "      <td>...</td>\n",
       "      <td>...</td>\n",
       "      <td>...</td>\n",
       "      <td>...</td>\n",
       "      <td>...</td>\n",
       "      <td>...</td>\n",
       "      <td>...</td>\n",
       "      <td>...</td>\n",
       "      <td>...</td>\n",
       "      <td>...</td>\n",
       "      <td>...</td>\n",
       "    </tr>\n",
       "    <tr>\n",
       "      <th>722518</th>\n",
       "      <td>2.0</td>\n",
       "      <td>2021-07-10 01:11:20</td>\n",
       "      <td>2021-07-10 01:33:28</td>\n",
       "      <td>1.0</td>\n",
       "      <td>9.34</td>\n",
       "      <td>1.0</td>\n",
       "      <td>138</td>\n",
       "      <td>151</td>\n",
       "      <td>1.0</td>\n",
       "      <td>28.0</td>\n",
       "      <td>0.5</td>\n",
       "      <td>0.5</td>\n",
       "      <td>7.17</td>\n",
       "      <td>6.55</td>\n",
       "      <td>0.3</td>\n",
       "      <td>44.27</td>\n",
       "      <td>0.0</td>\n",
       "      <td>basic</td>\n",
       "    </tr>\n",
       "    <tr>\n",
       "      <th>123269</th>\n",
       "      <td>2.0</td>\n",
       "      <td>2021-07-02 14:33:24</td>\n",
       "      <td>2021-07-02 14:58:39</td>\n",
       "      <td>1.0</td>\n",
       "      <td>3.30</td>\n",
       "      <td>1.0</td>\n",
       "      <td>141</td>\n",
       "      <td>50</td>\n",
       "      <td>1.0</td>\n",
       "      <td>17.5</td>\n",
       "      <td>0.0</td>\n",
       "      <td>0.5</td>\n",
       "      <td>4.16</td>\n",
       "      <td>0.00</td>\n",
       "      <td>0.3</td>\n",
       "      <td>24.96</td>\n",
       "      <td>2.5</td>\n",
       "      <td>basic</td>\n",
       "    </tr>\n",
       "    <tr>\n",
       "      <th>1906657</th>\n",
       "      <td>2.0</td>\n",
       "      <td>2021-07-23 11:40:56</td>\n",
       "      <td>2021-07-23 11:45:12</td>\n",
       "      <td>1.0</td>\n",
       "      <td>0.80</td>\n",
       "      <td>1.0</td>\n",
       "      <td>162</td>\n",
       "      <td>237</td>\n",
       "      <td>1.0</td>\n",
       "      <td>5.5</td>\n",
       "      <td>0.0</td>\n",
       "      <td>0.5</td>\n",
       "      <td>2.64</td>\n",
       "      <td>0.00</td>\n",
       "      <td>0.3</td>\n",
       "      <td>11.44</td>\n",
       "      <td>2.5</td>\n",
       "      <td>basic</td>\n",
       "    </tr>\n",
       "    <tr>\n",
       "      <th>969865</th>\n",
       "      <td>2.0</td>\n",
       "      <td>2021-07-13 08:22:38</td>\n",
       "      <td>2021-07-13 08:29:47</td>\n",
       "      <td>1.0</td>\n",
       "      <td>1.07</td>\n",
       "      <td>1.0</td>\n",
       "      <td>238</td>\n",
       "      <td>166</td>\n",
       "      <td>1.0</td>\n",
       "      <td>7.0</td>\n",
       "      <td>0.0</td>\n",
       "      <td>0.5</td>\n",
       "      <td>0.70</td>\n",
       "      <td>0.00</td>\n",
       "      <td>0.3</td>\n",
       "      <td>11.00</td>\n",
       "      <td>2.5</td>\n",
       "      <td>basic</td>\n",
       "    </tr>\n",
       "    <tr>\n",
       "      <th>292431</th>\n",
       "      <td>1.0</td>\n",
       "      <td>2021-07-04 22:42:12</td>\n",
       "      <td>2021-07-04 22:47:21</td>\n",
       "      <td>2.0</td>\n",
       "      <td>1.20</td>\n",
       "      <td>1.0</td>\n",
       "      <td>263</td>\n",
       "      <td>75</td>\n",
       "      <td>1.0</td>\n",
       "      <td>6.0</td>\n",
       "      <td>3.0</td>\n",
       "      <td>0.5</td>\n",
       "      <td>1.95</td>\n",
       "      <td>0.00</td>\n",
       "      <td>0.3</td>\n",
       "      <td>11.75</td>\n",
       "      <td>2.5</td>\n",
       "      <td>basic</td>\n",
       "    </tr>\n",
       "  </tbody>\n",
       "</table>\n",
       "<p>2530493 rows × 18 columns</p>\n",
       "</div>"
      ],
      "text/plain": [
       "         VendorID tpep_pickup_datetime tpep_dropoff_datetime  passenger_count  \\\n",
       "1893944       2.0  2021-07-23 08:55:24   2021-07-23 09:00:49              1.0   \n",
       "474787        2.0  2021-07-07 12:47:35   2021-07-07 12:55:32              2.0   \n",
       "2462355       2.0  2021-07-29 15:49:00   2021-07-29 16:01:10              1.0   \n",
       "1503423       2.0  2021-07-18 19:19:25   2021-07-18 19:26:39              1.0   \n",
       "1452644       2.0  2021-07-18 04:18:14   2021-07-18 04:53:22              1.0   \n",
       "...           ...                  ...                   ...              ...   \n",
       "722518        2.0  2021-07-10 01:11:20   2021-07-10 01:33:28              1.0   \n",
       "123269        2.0  2021-07-02 14:33:24   2021-07-02 14:58:39              1.0   \n",
       "1906657       2.0  2021-07-23 11:40:56   2021-07-23 11:45:12              1.0   \n",
       "969865        2.0  2021-07-13 08:22:38   2021-07-13 08:29:47              1.0   \n",
       "292431        1.0  2021-07-04 22:42:12   2021-07-04 22:47:21              2.0   \n",
       "\n",
       "         trip_distance  RatecodeID  PULocationID  DOLocationID  payment_type  \\\n",
       "1893944           1.17         1.0           236           237           1.0   \n",
       "474787            1.72         1.0           170           141           1.0   \n",
       "2462355           1.90         1.0           142           141           1.0   \n",
       "1503423           0.89         1.0           229            43           2.0   \n",
       "1452644           8.32         1.0           186            75           2.0   \n",
       "...                ...         ...           ...           ...           ...   \n",
       "722518            9.34         1.0           138           151           1.0   \n",
       "123269            3.30         1.0           141            50           1.0   \n",
       "1906657           0.80         1.0           162           237           1.0   \n",
       "969865            1.07         1.0           238           166           1.0   \n",
       "292431            1.20         1.0           263            75           1.0   \n",
       "\n",
       "         fare_amount  extra  mta_tax  tip_amount  tolls_amount  \\\n",
       "1893944          6.0    0.0      0.5        1.50          0.00   \n",
       "474787           8.0    0.0      0.5        2.26          0.00   \n",
       "2462355         10.0    0.0      0.5        3.32          0.00   \n",
       "1503423          6.5    0.0      0.5        0.00          0.00   \n",
       "1452644         30.0    0.5      0.5        0.00          0.00   \n",
       "...              ...    ...      ...         ...           ...   \n",
       "722518          28.0    0.5      0.5        7.17          6.55   \n",
       "123269          17.5    0.0      0.5        4.16          0.00   \n",
       "1906657          5.5    0.0      0.5        2.64          0.00   \n",
       "969865           7.0    0.0      0.5        0.70          0.00   \n",
       "292431           6.0    3.0      0.5        1.95          0.00   \n",
       "\n",
       "         improvement_surcharge  total_amount  congestion_surcharge car_type  \n",
       "1893944                    0.3         10.80                   2.5    basic  \n",
       "474787                     0.3         13.56                   2.5    basic  \n",
       "2462355                    0.3         16.62                   2.5    basic  \n",
       "1503423                    0.3          9.80                   2.5    basic  \n",
       "1452644                    0.3         33.80                   2.5    basic  \n",
       "...                        ...           ...                   ...      ...  \n",
       "722518                     0.3         44.27                   0.0    basic  \n",
       "123269                     0.3         24.96                   2.5    basic  \n",
       "1906657                    0.3         11.44                   2.5    basic  \n",
       "969865                     0.3         11.00                   2.5    basic  \n",
       "292431                     0.3         11.75                   2.5    basic  \n",
       "\n",
       "[2530493 rows x 18 columns]"
      ]
     },
     "execution_count": 33,
     "metadata": {},
     "output_type": "execute_result"
    }
   ],
   "source": [
    "df_train"
   ]
  },
  {
   "cell_type": "code",
   "execution_count": 34,
   "id": "75518011",
   "metadata": {},
   "outputs": [],
   "source": [
    "#  df_train.get_dummies(passenger_count) to change from category to dummy\n",
    "df_train = pd.get_dummies(df_train, columns=['car_type'],drop_first=True)"
   ]
  },
  {
   "cell_type": "code",
   "execution_count": 35,
   "id": "b9f04dcc",
   "metadata": {},
   "outputs": [
    {
     "data": {
      "text/html": [
       "<div>\n",
       "<style scoped>\n",
       "    .dataframe tbody tr th:only-of-type {\n",
       "        vertical-align: middle;\n",
       "    }\n",
       "\n",
       "    .dataframe tbody tr th {\n",
       "        vertical-align: top;\n",
       "    }\n",
       "\n",
       "    .dataframe thead th {\n",
       "        text-align: right;\n",
       "    }\n",
       "</style>\n",
       "<table border=\"1\" class=\"dataframe\">\n",
       "  <thead>\n",
       "    <tr style=\"text-align: right;\">\n",
       "      <th></th>\n",
       "      <th>VendorID</th>\n",
       "      <th>tpep_pickup_datetime</th>\n",
       "      <th>tpep_dropoff_datetime</th>\n",
       "      <th>passenger_count</th>\n",
       "      <th>trip_distance</th>\n",
       "      <th>RatecodeID</th>\n",
       "      <th>PULocationID</th>\n",
       "      <th>DOLocationID</th>\n",
       "      <th>payment_type</th>\n",
       "      <th>fare_amount</th>\n",
       "      <th>extra</th>\n",
       "      <th>mta_tax</th>\n",
       "      <th>tip_amount</th>\n",
       "      <th>tolls_amount</th>\n",
       "      <th>improvement_surcharge</th>\n",
       "      <th>total_amount</th>\n",
       "      <th>congestion_surcharge</th>\n",
       "      <th>car_type_family</th>\n",
       "    </tr>\n",
       "  </thead>\n",
       "  <tbody>\n",
       "    <tr>\n",
       "      <th>338166</th>\n",
       "      <td>2.0</td>\n",
       "      <td>2021-07-05 17:38:37</td>\n",
       "      <td>2021-07-05 17:54:27</td>\n",
       "      <td>1.0</td>\n",
       "      <td>5.01</td>\n",
       "      <td>1.0</td>\n",
       "      <td>236</td>\n",
       "      <td>79</td>\n",
       "      <td>2.0</td>\n",
       "      <td>17.5</td>\n",
       "      <td>0.0</td>\n",
       "      <td>0.5</td>\n",
       "      <td>0.00</td>\n",
       "      <td>0.00</td>\n",
       "      <td>0.3</td>\n",
       "      <td>20.80</td>\n",
       "      <td>2.5</td>\n",
       "      <td>0</td>\n",
       "    </tr>\n",
       "    <tr>\n",
       "      <th>2338809</th>\n",
       "      <td>2.0</td>\n",
       "      <td>2021-07-28 10:01:07</td>\n",
       "      <td>2021-07-28 10:14:35</td>\n",
       "      <td>1.0</td>\n",
       "      <td>1.78</td>\n",
       "      <td>1.0</td>\n",
       "      <td>249</td>\n",
       "      <td>148</td>\n",
       "      <td>1.0</td>\n",
       "      <td>10.5</td>\n",
       "      <td>0.0</td>\n",
       "      <td>0.5</td>\n",
       "      <td>2.76</td>\n",
       "      <td>0.00</td>\n",
       "      <td>0.3</td>\n",
       "      <td>16.56</td>\n",
       "      <td>2.5</td>\n",
       "      <td>0</td>\n",
       "    </tr>\n",
       "    <tr>\n",
       "      <th>2177670</th>\n",
       "      <td>2.0</td>\n",
       "      <td>2021-07-26 14:25:20</td>\n",
       "      <td>2021-07-26 15:03:39</td>\n",
       "      <td>1.0</td>\n",
       "      <td>15.12</td>\n",
       "      <td>1.0</td>\n",
       "      <td>132</td>\n",
       "      <td>89</td>\n",
       "      <td>2.0</td>\n",
       "      <td>46.0</td>\n",
       "      <td>0.0</td>\n",
       "      <td>0.5</td>\n",
       "      <td>0.00</td>\n",
       "      <td>0.00</td>\n",
       "      <td>0.3</td>\n",
       "      <td>48.05</td>\n",
       "      <td>0.0</td>\n",
       "      <td>0</td>\n",
       "    </tr>\n",
       "    <tr>\n",
       "      <th>2342466</th>\n",
       "      <td>2.0</td>\n",
       "      <td>2021-07-28 11:52:17</td>\n",
       "      <td>2021-07-28 11:58:27</td>\n",
       "      <td>1.0</td>\n",
       "      <td>1.05</td>\n",
       "      <td>1.0</td>\n",
       "      <td>238</td>\n",
       "      <td>143</td>\n",
       "      <td>1.0</td>\n",
       "      <td>6.0</td>\n",
       "      <td>0.0</td>\n",
       "      <td>0.5</td>\n",
       "      <td>1.86</td>\n",
       "      <td>0.00</td>\n",
       "      <td>0.3</td>\n",
       "      <td>11.16</td>\n",
       "      <td>2.5</td>\n",
       "      <td>0</td>\n",
       "    </tr>\n",
       "    <tr>\n",
       "      <th>831387</th>\n",
       "      <td>2.0</td>\n",
       "      <td>2021-07-11 12:51:39</td>\n",
       "      <td>2021-07-11 13:01:27</td>\n",
       "      <td>1.0</td>\n",
       "      <td>1.23</td>\n",
       "      <td>1.0</td>\n",
       "      <td>144</td>\n",
       "      <td>148</td>\n",
       "      <td>1.0</td>\n",
       "      <td>8.0</td>\n",
       "      <td>0.0</td>\n",
       "      <td>0.5</td>\n",
       "      <td>1.50</td>\n",
       "      <td>0.00</td>\n",
       "      <td>0.3</td>\n",
       "      <td>12.80</td>\n",
       "      <td>2.5</td>\n",
       "      <td>0</td>\n",
       "    </tr>\n",
       "    <tr>\n",
       "      <th>1396100</th>\n",
       "      <td>2.0</td>\n",
       "      <td>2021-07-17 14:48:55</td>\n",
       "      <td>2021-07-17 14:51:27</td>\n",
       "      <td>1.0</td>\n",
       "      <td>0.49</td>\n",
       "      <td>1.0</td>\n",
       "      <td>263</td>\n",
       "      <td>141</td>\n",
       "      <td>1.0</td>\n",
       "      <td>4.0</td>\n",
       "      <td>0.0</td>\n",
       "      <td>0.5</td>\n",
       "      <td>1.46</td>\n",
       "      <td>0.00</td>\n",
       "      <td>0.3</td>\n",
       "      <td>8.76</td>\n",
       "      <td>2.5</td>\n",
       "      <td>0</td>\n",
       "    </tr>\n",
       "    <tr>\n",
       "      <th>2022947</th>\n",
       "      <td>1.0</td>\n",
       "      <td>2021-07-24 15:37:38</td>\n",
       "      <td>2021-07-24 15:44:21</td>\n",
       "      <td>1.0</td>\n",
       "      <td>0.90</td>\n",
       "      <td>1.0</td>\n",
       "      <td>48</td>\n",
       "      <td>48</td>\n",
       "      <td>1.0</td>\n",
       "      <td>6.0</td>\n",
       "      <td>2.5</td>\n",
       "      <td>0.5</td>\n",
       "      <td>1.00</td>\n",
       "      <td>0.00</td>\n",
       "      <td>0.3</td>\n",
       "      <td>10.30</td>\n",
       "      <td>2.5</td>\n",
       "      <td>0</td>\n",
       "    </tr>\n",
       "    <tr>\n",
       "      <th>2098323</th>\n",
       "      <td>2.0</td>\n",
       "      <td>2021-07-25 14:04:47</td>\n",
       "      <td>2021-07-25 14:09:23</td>\n",
       "      <td>1.0</td>\n",
       "      <td>0.98</td>\n",
       "      <td>1.0</td>\n",
       "      <td>43</td>\n",
       "      <td>43</td>\n",
       "      <td>1.0</td>\n",
       "      <td>5.5</td>\n",
       "      <td>0.0</td>\n",
       "      <td>0.5</td>\n",
       "      <td>1.00</td>\n",
       "      <td>0.00</td>\n",
       "      <td>0.3</td>\n",
       "      <td>9.80</td>\n",
       "      <td>2.5</td>\n",
       "      <td>0</td>\n",
       "    </tr>\n",
       "    <tr>\n",
       "      <th>890070</th>\n",
       "      <td>2.0</td>\n",
       "      <td>2021-07-12 09:09:50</td>\n",
       "      <td>2021-07-12 09:37:13</td>\n",
       "      <td>5.0</td>\n",
       "      <td>13.54</td>\n",
       "      <td>1.0</td>\n",
       "      <td>138</td>\n",
       "      <td>254</td>\n",
       "      <td>2.0</td>\n",
       "      <td>38.5</td>\n",
       "      <td>0.0</td>\n",
       "      <td>0.5</td>\n",
       "      <td>0.00</td>\n",
       "      <td>6.55</td>\n",
       "      <td>0.3</td>\n",
       "      <td>47.10</td>\n",
       "      <td>0.0</td>\n",
       "      <td>1</td>\n",
       "    </tr>\n",
       "    <tr>\n",
       "      <th>732235</th>\n",
       "      <td>1.0</td>\n",
       "      <td>2021-07-10 09:13:04</td>\n",
       "      <td>2021-07-10 09:37:20</td>\n",
       "      <td>1.0</td>\n",
       "      <td>8.20</td>\n",
       "      <td>1.0</td>\n",
       "      <td>33</td>\n",
       "      <td>14</td>\n",
       "      <td>1.0</td>\n",
       "      <td>25.0</td>\n",
       "      <td>0.0</td>\n",
       "      <td>0.5</td>\n",
       "      <td>7.70</td>\n",
       "      <td>0.00</td>\n",
       "      <td>0.3</td>\n",
       "      <td>33.50</td>\n",
       "      <td>0.0</td>\n",
       "      <td>0</td>\n",
       "    </tr>\n",
       "    <tr>\n",
       "      <th>138296</th>\n",
       "      <td>2.0</td>\n",
       "      <td>2021-07-02 16:34:24</td>\n",
       "      <td>2021-07-02 16:38:03</td>\n",
       "      <td>1.0</td>\n",
       "      <td>0.88</td>\n",
       "      <td>1.0</td>\n",
       "      <td>137</td>\n",
       "      <td>162</td>\n",
       "      <td>1.0</td>\n",
       "      <td>5.0</td>\n",
       "      <td>1.0</td>\n",
       "      <td>0.5</td>\n",
       "      <td>2.79</td>\n",
       "      <td>0.00</td>\n",
       "      <td>0.3</td>\n",
       "      <td>12.09</td>\n",
       "      <td>2.5</td>\n",
       "      <td>0</td>\n",
       "    </tr>\n",
       "    <tr>\n",
       "      <th>990322</th>\n",
       "      <td>2.0</td>\n",
       "      <td>2021-07-13 12:02:26</td>\n",
       "      <td>2021-07-13 12:11:36</td>\n",
       "      <td>1.0</td>\n",
       "      <td>0.77</td>\n",
       "      <td>1.0</td>\n",
       "      <td>170</td>\n",
       "      <td>186</td>\n",
       "      <td>2.0</td>\n",
       "      <td>7.0</td>\n",
       "      <td>0.0</td>\n",
       "      <td>0.5</td>\n",
       "      <td>0.00</td>\n",
       "      <td>0.00</td>\n",
       "      <td>0.3</td>\n",
       "      <td>10.30</td>\n",
       "      <td>2.5</td>\n",
       "      <td>0</td>\n",
       "    </tr>\n",
       "    <tr>\n",
       "      <th>2117071</th>\n",
       "      <td>2.0</td>\n",
       "      <td>2021-07-25 17:11:26</td>\n",
       "      <td>2021-07-25 17:21:31</td>\n",
       "      <td>2.0</td>\n",
       "      <td>1.29</td>\n",
       "      <td>1.0</td>\n",
       "      <td>48</td>\n",
       "      <td>90</td>\n",
       "      <td>1.0</td>\n",
       "      <td>8.5</td>\n",
       "      <td>0.0</td>\n",
       "      <td>0.5</td>\n",
       "      <td>2.36</td>\n",
       "      <td>0.00</td>\n",
       "      <td>0.3</td>\n",
       "      <td>14.16</td>\n",
       "      <td>2.5</td>\n",
       "      <td>0</td>\n",
       "    </tr>\n",
       "    <tr>\n",
       "      <th>1505841</th>\n",
       "      <td>1.0</td>\n",
       "      <td>2021-07-18 20:43:17</td>\n",
       "      <td>2021-07-18 20:58:32</td>\n",
       "      <td>2.0</td>\n",
       "      <td>4.10</td>\n",
       "      <td>1.0</td>\n",
       "      <td>158</td>\n",
       "      <td>141</td>\n",
       "      <td>1.0</td>\n",
       "      <td>14.5</td>\n",
       "      <td>3.0</td>\n",
       "      <td>0.5</td>\n",
       "      <td>5.45</td>\n",
       "      <td>0.00</td>\n",
       "      <td>0.3</td>\n",
       "      <td>23.75</td>\n",
       "      <td>2.5</td>\n",
       "      <td>0</td>\n",
       "    </tr>\n",
       "    <tr>\n",
       "      <th>2657340</th>\n",
       "      <td>1.0</td>\n",
       "      <td>2021-07-31 17:53:31</td>\n",
       "      <td>2021-07-31 17:59:25</td>\n",
       "      <td>3.0</td>\n",
       "      <td>0.50</td>\n",
       "      <td>1.0</td>\n",
       "      <td>186</td>\n",
       "      <td>164</td>\n",
       "      <td>2.0</td>\n",
       "      <td>5.5</td>\n",
       "      <td>2.5</td>\n",
       "      <td>0.5</td>\n",
       "      <td>0.00</td>\n",
       "      <td>0.00</td>\n",
       "      <td>0.3</td>\n",
       "      <td>8.80</td>\n",
       "      <td>2.5</td>\n",
       "      <td>0</td>\n",
       "    </tr>\n",
       "    <tr>\n",
       "      <th>1498203</th>\n",
       "      <td>2.0</td>\n",
       "      <td>2021-07-18 18:56:24</td>\n",
       "      <td>2021-07-18 19:02:09</td>\n",
       "      <td>1.0</td>\n",
       "      <td>0.76</td>\n",
       "      <td>1.0</td>\n",
       "      <td>164</td>\n",
       "      <td>233</td>\n",
       "      <td>1.0</td>\n",
       "      <td>5.5</td>\n",
       "      <td>0.0</td>\n",
       "      <td>0.5</td>\n",
       "      <td>1.00</td>\n",
       "      <td>0.00</td>\n",
       "      <td>0.3</td>\n",
       "      <td>9.80</td>\n",
       "      <td>2.5</td>\n",
       "      <td>0</td>\n",
       "    </tr>\n",
       "    <tr>\n",
       "      <th>699564</th>\n",
       "      <td>2.0</td>\n",
       "      <td>2021-07-09 12:24:45</td>\n",
       "      <td>2021-07-09 12:38:20</td>\n",
       "      <td>3.0</td>\n",
       "      <td>3.68</td>\n",
       "      <td>1.0</td>\n",
       "      <td>234</td>\n",
       "      <td>263</td>\n",
       "      <td>1.0</td>\n",
       "      <td>13.0</td>\n",
       "      <td>0.5</td>\n",
       "      <td>0.5</td>\n",
       "      <td>3.36</td>\n",
       "      <td>0.00</td>\n",
       "      <td>0.3</td>\n",
       "      <td>20.16</td>\n",
       "      <td>2.5</td>\n",
       "      <td>0</td>\n",
       "    </tr>\n",
       "    <tr>\n",
       "      <th>2245847</th>\n",
       "      <td>1.0</td>\n",
       "      <td>2021-07-27 11:30:07</td>\n",
       "      <td>2021-07-27 11:34:47</td>\n",
       "      <td>1.0</td>\n",
       "      <td>1.20</td>\n",
       "      <td>1.0</td>\n",
       "      <td>50</td>\n",
       "      <td>246</td>\n",
       "      <td>1.0</td>\n",
       "      <td>6.0</td>\n",
       "      <td>2.5</td>\n",
       "      <td>0.5</td>\n",
       "      <td>1.85</td>\n",
       "      <td>0.00</td>\n",
       "      <td>0.3</td>\n",
       "      <td>11.15</td>\n",
       "      <td>2.5</td>\n",
       "      <td>0</td>\n",
       "    </tr>\n",
       "    <tr>\n",
       "      <th>1799487</th>\n",
       "      <td>1.0</td>\n",
       "      <td>2021-07-22 09:57:47</td>\n",
       "      <td>2021-07-22 10:09:03</td>\n",
       "      <td>1.0</td>\n",
       "      <td>3.20</td>\n",
       "      <td>1.0</td>\n",
       "      <td>48</td>\n",
       "      <td>151</td>\n",
       "      <td>2.0</td>\n",
       "      <td>12.5</td>\n",
       "      <td>2.5</td>\n",
       "      <td>0.5</td>\n",
       "      <td>0.00</td>\n",
       "      <td>0.00</td>\n",
       "      <td>0.3</td>\n",
       "      <td>15.80</td>\n",
       "      <td>2.5</td>\n",
       "      <td>0</td>\n",
       "    </tr>\n",
       "    <tr>\n",
       "      <th>1459919</th>\n",
       "      <td>2.0</td>\n",
       "      <td>2021-07-18 10:07:30</td>\n",
       "      <td>2021-07-18 10:15:54</td>\n",
       "      <td>1.0</td>\n",
       "      <td>1.66</td>\n",
       "      <td>1.0</td>\n",
       "      <td>238</td>\n",
       "      <td>143</td>\n",
       "      <td>1.0</td>\n",
       "      <td>8.0</td>\n",
       "      <td>0.0</td>\n",
       "      <td>0.5</td>\n",
       "      <td>2.26</td>\n",
       "      <td>0.00</td>\n",
       "      <td>0.3</td>\n",
       "      <td>13.56</td>\n",
       "      <td>2.5</td>\n",
       "      <td>0</td>\n",
       "    </tr>\n",
       "    <tr>\n",
       "      <th>548490</th>\n",
       "      <td>2.0</td>\n",
       "      <td>2021-07-08 08:48:29</td>\n",
       "      <td>2021-07-08 08:55:55</td>\n",
       "      <td>2.0</td>\n",
       "      <td>1.10</td>\n",
       "      <td>1.0</td>\n",
       "      <td>162</td>\n",
       "      <td>237</td>\n",
       "      <td>1.0</td>\n",
       "      <td>6.5</td>\n",
       "      <td>0.0</td>\n",
       "      <td>0.5</td>\n",
       "      <td>2.45</td>\n",
       "      <td>0.00</td>\n",
       "      <td>0.3</td>\n",
       "      <td>12.25</td>\n",
       "      <td>2.5</td>\n",
       "      <td>0</td>\n",
       "    </tr>\n",
       "    <tr>\n",
       "      <th>2564485</th>\n",
       "      <td>1.0</td>\n",
       "      <td>2021-07-30 17:46:34</td>\n",
       "      <td>2021-07-30 18:51:19</td>\n",
       "      <td>1.0</td>\n",
       "      <td>8.50</td>\n",
       "      <td>1.0</td>\n",
       "      <td>164</td>\n",
       "      <td>69</td>\n",
       "      <td>2.0</td>\n",
       "      <td>41.5</td>\n",
       "      <td>3.5</td>\n",
       "      <td>0.5</td>\n",
       "      <td>0.00</td>\n",
       "      <td>0.00</td>\n",
       "      <td>0.3</td>\n",
       "      <td>45.80</td>\n",
       "      <td>2.5</td>\n",
       "      <td>0</td>\n",
       "    </tr>\n",
       "    <tr>\n",
       "      <th>1226392</th>\n",
       "      <td>2.0</td>\n",
       "      <td>2021-07-15 18:05:49</td>\n",
       "      <td>2021-07-15 18:09:37</td>\n",
       "      <td>1.0</td>\n",
       "      <td>0.92</td>\n",
       "      <td>1.0</td>\n",
       "      <td>186</td>\n",
       "      <td>68</td>\n",
       "      <td>1.0</td>\n",
       "      <td>5.0</td>\n",
       "      <td>1.0</td>\n",
       "      <td>0.5</td>\n",
       "      <td>2.33</td>\n",
       "      <td>0.00</td>\n",
       "      <td>0.3</td>\n",
       "      <td>11.63</td>\n",
       "      <td>2.5</td>\n",
       "      <td>0</td>\n",
       "    </tr>\n",
       "    <tr>\n",
       "      <th>1689092</th>\n",
       "      <td>1.0</td>\n",
       "      <td>2021-07-20 23:58:23</td>\n",
       "      <td>2021-07-21 00:07:19</td>\n",
       "      <td>1.0</td>\n",
       "      <td>1.40</td>\n",
       "      <td>1.0</td>\n",
       "      <td>229</td>\n",
       "      <td>161</td>\n",
       "      <td>1.0</td>\n",
       "      <td>8.0</td>\n",
       "      <td>3.0</td>\n",
       "      <td>0.5</td>\n",
       "      <td>2.00</td>\n",
       "      <td>0.00</td>\n",
       "      <td>0.3</td>\n",
       "      <td>13.80</td>\n",
       "      <td>2.5</td>\n",
       "      <td>0</td>\n",
       "    </tr>\n",
       "    <tr>\n",
       "      <th>1962074</th>\n",
       "      <td>2.0</td>\n",
       "      <td>2021-07-23 20:46:24</td>\n",
       "      <td>2021-07-23 20:57:55</td>\n",
       "      <td>2.0</td>\n",
       "      <td>2.61</td>\n",
       "      <td>1.0</td>\n",
       "      <td>229</td>\n",
       "      <td>236</td>\n",
       "      <td>1.0</td>\n",
       "      <td>10.5</td>\n",
       "      <td>0.5</td>\n",
       "      <td>0.5</td>\n",
       "      <td>2.86</td>\n",
       "      <td>0.00</td>\n",
       "      <td>0.3</td>\n",
       "      <td>17.16</td>\n",
       "      <td>2.5</td>\n",
       "      <td>0</td>\n",
       "    </tr>\n",
       "    <tr>\n",
       "      <th>1473645</th>\n",
       "      <td>2.0</td>\n",
       "      <td>2021-07-18 13:24:53</td>\n",
       "      <td>2021-07-18 13:27:47</td>\n",
       "      <td>1.0</td>\n",
       "      <td>0.63</td>\n",
       "      <td>1.0</td>\n",
       "      <td>114</td>\n",
       "      <td>79</td>\n",
       "      <td>2.0</td>\n",
       "      <td>4.0</td>\n",
       "      <td>0.0</td>\n",
       "      <td>0.5</td>\n",
       "      <td>0.00</td>\n",
       "      <td>0.00</td>\n",
       "      <td>0.3</td>\n",
       "      <td>7.30</td>\n",
       "      <td>2.5</td>\n",
       "      <td>0</td>\n",
       "    </tr>\n",
       "    <tr>\n",
       "      <th>2426483</th>\n",
       "      <td>2.0</td>\n",
       "      <td>2021-07-29 08:57:32</td>\n",
       "      <td>2021-07-29 09:12:14</td>\n",
       "      <td>1.0</td>\n",
       "      <td>2.09</td>\n",
       "      <td>1.0</td>\n",
       "      <td>234</td>\n",
       "      <td>144</td>\n",
       "      <td>1.0</td>\n",
       "      <td>11.5</td>\n",
       "      <td>0.0</td>\n",
       "      <td>0.5</td>\n",
       "      <td>1.00</td>\n",
       "      <td>0.00</td>\n",
       "      <td>0.3</td>\n",
       "      <td>15.80</td>\n",
       "      <td>2.5</td>\n",
       "      <td>0</td>\n",
       "    </tr>\n",
       "    <tr>\n",
       "      <th>565078</th>\n",
       "      <td>2.0</td>\n",
       "      <td>2021-07-08 12:36:51</td>\n",
       "      <td>2021-07-08 12:48:39</td>\n",
       "      <td>2.0</td>\n",
       "      <td>2.73</td>\n",
       "      <td>1.0</td>\n",
       "      <td>4</td>\n",
       "      <td>261</td>\n",
       "      <td>2.0</td>\n",
       "      <td>11.5</td>\n",
       "      <td>0.0</td>\n",
       "      <td>0.5</td>\n",
       "      <td>0.00</td>\n",
       "      <td>0.00</td>\n",
       "      <td>0.3</td>\n",
       "      <td>14.80</td>\n",
       "      <td>2.5</td>\n",
       "      <td>0</td>\n",
       "    </tr>\n",
       "    <tr>\n",
       "      <th>1794101</th>\n",
       "      <td>1.0</td>\n",
       "      <td>2021-07-22 08:05:33</td>\n",
       "      <td>2021-07-22 08:18:15</td>\n",
       "      <td>1.0</td>\n",
       "      <td>3.10</td>\n",
       "      <td>1.0</td>\n",
       "      <td>161</td>\n",
       "      <td>125</td>\n",
       "      <td>1.0</td>\n",
       "      <td>12.0</td>\n",
       "      <td>2.5</td>\n",
       "      <td>0.5</td>\n",
       "      <td>1.50</td>\n",
       "      <td>0.00</td>\n",
       "      <td>0.3</td>\n",
       "      <td>16.80</td>\n",
       "      <td>2.5</td>\n",
       "      <td>0</td>\n",
       "    </tr>\n",
       "    <tr>\n",
       "      <th>852830</th>\n",
       "      <td>2.0</td>\n",
       "      <td>2021-07-11 17:14:59</td>\n",
       "      <td>2021-07-11 17:32:49</td>\n",
       "      <td>1.0</td>\n",
       "      <td>4.15</td>\n",
       "      <td>1.0</td>\n",
       "      <td>142</td>\n",
       "      <td>158</td>\n",
       "      <td>1.0</td>\n",
       "      <td>15.5</td>\n",
       "      <td>0.0</td>\n",
       "      <td>0.5</td>\n",
       "      <td>3.76</td>\n",
       "      <td>0.00</td>\n",
       "      <td>0.3</td>\n",
       "      <td>22.56</td>\n",
       "      <td>2.5</td>\n",
       "      <td>0</td>\n",
       "    </tr>\n",
       "    <tr>\n",
       "      <th>887921</th>\n",
       "      <td>2.0</td>\n",
       "      <td>2021-07-12 08:35:30</td>\n",
       "      <td>2021-07-12 08:49:43</td>\n",
       "      <td>1.0</td>\n",
       "      <td>2.92</td>\n",
       "      <td>1.0</td>\n",
       "      <td>163</td>\n",
       "      <td>114</td>\n",
       "      <td>1.0</td>\n",
       "      <td>12.0</td>\n",
       "      <td>0.0</td>\n",
       "      <td>0.5</td>\n",
       "      <td>3.06</td>\n",
       "      <td>0.00</td>\n",
       "      <td>0.3</td>\n",
       "      <td>18.36</td>\n",
       "      <td>2.5</td>\n",
       "      <td>0</td>\n",
       "    </tr>\n",
       "    <tr>\n",
       "      <th>1751041</th>\n",
       "      <td>2.0</td>\n",
       "      <td>2021-07-21 17:44:58</td>\n",
       "      <td>2021-07-21 17:59:23</td>\n",
       "      <td>1.0</td>\n",
       "      <td>2.74</td>\n",
       "      <td>1.0</td>\n",
       "      <td>143</td>\n",
       "      <td>164</td>\n",
       "      <td>1.0</td>\n",
       "      <td>12.0</td>\n",
       "      <td>1.0</td>\n",
       "      <td>0.5</td>\n",
       "      <td>3.26</td>\n",
       "      <td>0.00</td>\n",
       "      <td>0.3</td>\n",
       "      <td>19.56</td>\n",
       "      <td>2.5</td>\n",
       "      <td>0</td>\n",
       "    </tr>\n",
       "    <tr>\n",
       "      <th>2103352</th>\n",
       "      <td>2.0</td>\n",
       "      <td>2021-07-25 15:44:31</td>\n",
       "      <td>2021-07-25 15:57:22</td>\n",
       "      <td>1.0</td>\n",
       "      <td>2.66</td>\n",
       "      <td>1.0</td>\n",
       "      <td>50</td>\n",
       "      <td>141</td>\n",
       "      <td>1.0</td>\n",
       "      <td>11.0</td>\n",
       "      <td>0.0</td>\n",
       "      <td>0.5</td>\n",
       "      <td>2.00</td>\n",
       "      <td>0.00</td>\n",
       "      <td>0.3</td>\n",
       "      <td>16.30</td>\n",
       "      <td>2.5</td>\n",
       "      <td>0</td>\n",
       "    </tr>\n",
       "    <tr>\n",
       "      <th>1813007</th>\n",
       "      <td>1.0</td>\n",
       "      <td>2021-07-22 12:08:56</td>\n",
       "      <td>2021-07-22 12:24:06</td>\n",
       "      <td>1.0</td>\n",
       "      <td>1.80</td>\n",
       "      <td>1.0</td>\n",
       "      <td>161</td>\n",
       "      <td>249</td>\n",
       "      <td>1.0</td>\n",
       "      <td>11.0</td>\n",
       "      <td>2.5</td>\n",
       "      <td>0.5</td>\n",
       "      <td>2.85</td>\n",
       "      <td>0.00</td>\n",
       "      <td>0.3</td>\n",
       "      <td>17.15</td>\n",
       "      <td>2.5</td>\n",
       "      <td>0</td>\n",
       "    </tr>\n",
       "    <tr>\n",
       "      <th>319745</th>\n",
       "      <td>1.0</td>\n",
       "      <td>2021-07-05 13:57:06</td>\n",
       "      <td>2021-07-05 14:10:15</td>\n",
       "      <td>1.0</td>\n",
       "      <td>3.00</td>\n",
       "      <td>1.0</td>\n",
       "      <td>229</td>\n",
       "      <td>239</td>\n",
       "      <td>1.0</td>\n",
       "      <td>12.5</td>\n",
       "      <td>2.5</td>\n",
       "      <td>0.5</td>\n",
       "      <td>4.70</td>\n",
       "      <td>0.00</td>\n",
       "      <td>0.3</td>\n",
       "      <td>20.50</td>\n",
       "      <td>2.5</td>\n",
       "      <td>0</td>\n",
       "    </tr>\n",
       "    <tr>\n",
       "      <th>1611514</th>\n",
       "      <td>2.0</td>\n",
       "      <td>2021-07-20 08:50:15</td>\n",
       "      <td>2021-07-20 08:57:24</td>\n",
       "      <td>1.0</td>\n",
       "      <td>1.25</td>\n",
       "      <td>1.0</td>\n",
       "      <td>170</td>\n",
       "      <td>161</td>\n",
       "      <td>1.0</td>\n",
       "      <td>6.5</td>\n",
       "      <td>0.0</td>\n",
       "      <td>0.5</td>\n",
       "      <td>1.96</td>\n",
       "      <td>0.00</td>\n",
       "      <td>0.3</td>\n",
       "      <td>11.76</td>\n",
       "      <td>2.5</td>\n",
       "      <td>0</td>\n",
       "    </tr>\n",
       "    <tr>\n",
       "      <th>2037260</th>\n",
       "      <td>1.0</td>\n",
       "      <td>2021-07-24 18:29:35</td>\n",
       "      <td>2021-07-24 18:41:32</td>\n",
       "      <td>1.0</td>\n",
       "      <td>1.50</td>\n",
       "      <td>1.0</td>\n",
       "      <td>113</td>\n",
       "      <td>164</td>\n",
       "      <td>2.0</td>\n",
       "      <td>9.5</td>\n",
       "      <td>2.5</td>\n",
       "      <td>0.5</td>\n",
       "      <td>0.00</td>\n",
       "      <td>0.00</td>\n",
       "      <td>0.3</td>\n",
       "      <td>12.80</td>\n",
       "      <td>2.5</td>\n",
       "      <td>0</td>\n",
       "    </tr>\n",
       "    <tr>\n",
       "      <th>1819128</th>\n",
       "      <td>2.0</td>\n",
       "      <td>2021-07-22 13:25:07</td>\n",
       "      <td>2021-07-22 13:37:07</td>\n",
       "      <td>1.0</td>\n",
       "      <td>0.94</td>\n",
       "      <td>1.0</td>\n",
       "      <td>236</td>\n",
       "      <td>162</td>\n",
       "      <td>1.0</td>\n",
       "      <td>9.0</td>\n",
       "      <td>0.0</td>\n",
       "      <td>0.5</td>\n",
       "      <td>2.21</td>\n",
       "      <td>0.00</td>\n",
       "      <td>0.3</td>\n",
       "      <td>14.51</td>\n",
       "      <td>2.5</td>\n",
       "      <td>0</td>\n",
       "    </tr>\n",
       "    <tr>\n",
       "      <th>2056933</th>\n",
       "      <td>1.0</td>\n",
       "      <td>2021-07-24 22:38:22</td>\n",
       "      <td>2021-07-24 22:48:49</td>\n",
       "      <td>2.0</td>\n",
       "      <td>1.30</td>\n",
       "      <td>1.0</td>\n",
       "      <td>229</td>\n",
       "      <td>48</td>\n",
       "      <td>1.0</td>\n",
       "      <td>8.0</td>\n",
       "      <td>3.0</td>\n",
       "      <td>0.5</td>\n",
       "      <td>3.50</td>\n",
       "      <td>0.00</td>\n",
       "      <td>0.3</td>\n",
       "      <td>15.30</td>\n",
       "      <td>2.5</td>\n",
       "      <td>0</td>\n",
       "    </tr>\n",
       "    <tr>\n",
       "      <th>1772588</th>\n",
       "      <td>1.0</td>\n",
       "      <td>2021-07-21 21:06:21</td>\n",
       "      <td>2021-07-21 21:16:39</td>\n",
       "      <td>1.0</td>\n",
       "      <td>1.50</td>\n",
       "      <td>1.0</td>\n",
       "      <td>137</td>\n",
       "      <td>68</td>\n",
       "      <td>1.0</td>\n",
       "      <td>8.5</td>\n",
       "      <td>3.0</td>\n",
       "      <td>0.5</td>\n",
       "      <td>2.45</td>\n",
       "      <td>0.00</td>\n",
       "      <td>0.3</td>\n",
       "      <td>14.75</td>\n",
       "      <td>2.5</td>\n",
       "      <td>0</td>\n",
       "    </tr>\n",
       "    <tr>\n",
       "      <th>2598324</th>\n",
       "      <td>1.0</td>\n",
       "      <td>2021-07-30 23:12:28</td>\n",
       "      <td>2021-07-30 23:25:50</td>\n",
       "      <td>1.0</td>\n",
       "      <td>1.60</td>\n",
       "      <td>1.0</td>\n",
       "      <td>79</td>\n",
       "      <td>158</td>\n",
       "      <td>1.0</td>\n",
       "      <td>9.5</td>\n",
       "      <td>3.0</td>\n",
       "      <td>0.5</td>\n",
       "      <td>1.20</td>\n",
       "      <td>0.00</td>\n",
       "      <td>0.3</td>\n",
       "      <td>14.50</td>\n",
       "      <td>2.5</td>\n",
       "      <td>0</td>\n",
       "    </tr>\n",
       "    <tr>\n",
       "      <th>2291725</th>\n",
       "      <td>2.0</td>\n",
       "      <td>2021-07-27 18:02:33</td>\n",
       "      <td>2021-07-27 18:04:01</td>\n",
       "      <td>1.0</td>\n",
       "      <td>0.50</td>\n",
       "      <td>1.0</td>\n",
       "      <td>237</td>\n",
       "      <td>236</td>\n",
       "      <td>1.0</td>\n",
       "      <td>3.5</td>\n",
       "      <td>1.0</td>\n",
       "      <td>0.5</td>\n",
       "      <td>1.95</td>\n",
       "      <td>0.00</td>\n",
       "      <td>0.3</td>\n",
       "      <td>9.75</td>\n",
       "      <td>2.5</td>\n",
       "      <td>0</td>\n",
       "    </tr>\n",
       "    <tr>\n",
       "      <th>1594329</th>\n",
       "      <td>2.0</td>\n",
       "      <td>2021-07-19 21:18:37</td>\n",
       "      <td>2021-07-19 21:20:10</td>\n",
       "      <td>2.0</td>\n",
       "      <td>0.24</td>\n",
       "      <td>1.0</td>\n",
       "      <td>79</td>\n",
       "      <td>79</td>\n",
       "      <td>2.0</td>\n",
       "      <td>3.0</td>\n",
       "      <td>0.5</td>\n",
       "      <td>0.5</td>\n",
       "      <td>0.00</td>\n",
       "      <td>0.00</td>\n",
       "      <td>0.3</td>\n",
       "      <td>6.80</td>\n",
       "      <td>2.5</td>\n",
       "      <td>0</td>\n",
       "    </tr>\n",
       "    <tr>\n",
       "      <th>1854012</th>\n",
       "      <td>2.0</td>\n",
       "      <td>2021-07-22 18:51:51</td>\n",
       "      <td>2021-07-22 18:58:26</td>\n",
       "      <td>1.0</td>\n",
       "      <td>0.64</td>\n",
       "      <td>1.0</td>\n",
       "      <td>137</td>\n",
       "      <td>164</td>\n",
       "      <td>1.0</td>\n",
       "      <td>6.0</td>\n",
       "      <td>1.0</td>\n",
       "      <td>0.5</td>\n",
       "      <td>1.00</td>\n",
       "      <td>0.00</td>\n",
       "      <td>0.3</td>\n",
       "      <td>11.30</td>\n",
       "      <td>2.5</td>\n",
       "      <td>0</td>\n",
       "    </tr>\n",
       "  </tbody>\n",
       "</table>\n",
       "</div>"
      ],
      "text/plain": [
       "         VendorID tpep_pickup_datetime tpep_dropoff_datetime  passenger_count  \\\n",
       "338166        2.0  2021-07-05 17:38:37   2021-07-05 17:54:27              1.0   \n",
       "2338809       2.0  2021-07-28 10:01:07   2021-07-28 10:14:35              1.0   \n",
       "2177670       2.0  2021-07-26 14:25:20   2021-07-26 15:03:39              1.0   \n",
       "2342466       2.0  2021-07-28 11:52:17   2021-07-28 11:58:27              1.0   \n",
       "831387        2.0  2021-07-11 12:51:39   2021-07-11 13:01:27              1.0   \n",
       "1396100       2.0  2021-07-17 14:48:55   2021-07-17 14:51:27              1.0   \n",
       "2022947       1.0  2021-07-24 15:37:38   2021-07-24 15:44:21              1.0   \n",
       "2098323       2.0  2021-07-25 14:04:47   2021-07-25 14:09:23              1.0   \n",
       "890070        2.0  2021-07-12 09:09:50   2021-07-12 09:37:13              5.0   \n",
       "732235        1.0  2021-07-10 09:13:04   2021-07-10 09:37:20              1.0   \n",
       "138296        2.0  2021-07-02 16:34:24   2021-07-02 16:38:03              1.0   \n",
       "990322        2.0  2021-07-13 12:02:26   2021-07-13 12:11:36              1.0   \n",
       "2117071       2.0  2021-07-25 17:11:26   2021-07-25 17:21:31              2.0   \n",
       "1505841       1.0  2021-07-18 20:43:17   2021-07-18 20:58:32              2.0   \n",
       "2657340       1.0  2021-07-31 17:53:31   2021-07-31 17:59:25              3.0   \n",
       "1498203       2.0  2021-07-18 18:56:24   2021-07-18 19:02:09              1.0   \n",
       "699564        2.0  2021-07-09 12:24:45   2021-07-09 12:38:20              3.0   \n",
       "2245847       1.0  2021-07-27 11:30:07   2021-07-27 11:34:47              1.0   \n",
       "1799487       1.0  2021-07-22 09:57:47   2021-07-22 10:09:03              1.0   \n",
       "1459919       2.0  2021-07-18 10:07:30   2021-07-18 10:15:54              1.0   \n",
       "548490        2.0  2021-07-08 08:48:29   2021-07-08 08:55:55              2.0   \n",
       "2564485       1.0  2021-07-30 17:46:34   2021-07-30 18:51:19              1.0   \n",
       "1226392       2.0  2021-07-15 18:05:49   2021-07-15 18:09:37              1.0   \n",
       "1689092       1.0  2021-07-20 23:58:23   2021-07-21 00:07:19              1.0   \n",
       "1962074       2.0  2021-07-23 20:46:24   2021-07-23 20:57:55              2.0   \n",
       "1473645       2.0  2021-07-18 13:24:53   2021-07-18 13:27:47              1.0   \n",
       "2426483       2.0  2021-07-29 08:57:32   2021-07-29 09:12:14              1.0   \n",
       "565078        2.0  2021-07-08 12:36:51   2021-07-08 12:48:39              2.0   \n",
       "1794101       1.0  2021-07-22 08:05:33   2021-07-22 08:18:15              1.0   \n",
       "852830        2.0  2021-07-11 17:14:59   2021-07-11 17:32:49              1.0   \n",
       "887921        2.0  2021-07-12 08:35:30   2021-07-12 08:49:43              1.0   \n",
       "1751041       2.0  2021-07-21 17:44:58   2021-07-21 17:59:23              1.0   \n",
       "2103352       2.0  2021-07-25 15:44:31   2021-07-25 15:57:22              1.0   \n",
       "1813007       1.0  2021-07-22 12:08:56   2021-07-22 12:24:06              1.0   \n",
       "319745        1.0  2021-07-05 13:57:06   2021-07-05 14:10:15              1.0   \n",
       "1611514       2.0  2021-07-20 08:50:15   2021-07-20 08:57:24              1.0   \n",
       "2037260       1.0  2021-07-24 18:29:35   2021-07-24 18:41:32              1.0   \n",
       "1819128       2.0  2021-07-22 13:25:07   2021-07-22 13:37:07              1.0   \n",
       "2056933       1.0  2021-07-24 22:38:22   2021-07-24 22:48:49              2.0   \n",
       "1772588       1.0  2021-07-21 21:06:21   2021-07-21 21:16:39              1.0   \n",
       "2598324       1.0  2021-07-30 23:12:28   2021-07-30 23:25:50              1.0   \n",
       "2291725       2.0  2021-07-27 18:02:33   2021-07-27 18:04:01              1.0   \n",
       "1594329       2.0  2021-07-19 21:18:37   2021-07-19 21:20:10              2.0   \n",
       "1854012       2.0  2021-07-22 18:51:51   2021-07-22 18:58:26              1.0   \n",
       "\n",
       "         trip_distance  RatecodeID  PULocationID  DOLocationID  payment_type  \\\n",
       "338166            5.01         1.0           236            79           2.0   \n",
       "2338809           1.78         1.0           249           148           1.0   \n",
       "2177670          15.12         1.0           132            89           2.0   \n",
       "2342466           1.05         1.0           238           143           1.0   \n",
       "831387            1.23         1.0           144           148           1.0   \n",
       "1396100           0.49         1.0           263           141           1.0   \n",
       "2022947           0.90         1.0            48            48           1.0   \n",
       "2098323           0.98         1.0            43            43           1.0   \n",
       "890070           13.54         1.0           138           254           2.0   \n",
       "732235            8.20         1.0            33            14           1.0   \n",
       "138296            0.88         1.0           137           162           1.0   \n",
       "990322            0.77         1.0           170           186           2.0   \n",
       "2117071           1.29         1.0            48            90           1.0   \n",
       "1505841           4.10         1.0           158           141           1.0   \n",
       "2657340           0.50         1.0           186           164           2.0   \n",
       "1498203           0.76         1.0           164           233           1.0   \n",
       "699564            3.68         1.0           234           263           1.0   \n",
       "2245847           1.20         1.0            50           246           1.0   \n",
       "1799487           3.20         1.0            48           151           2.0   \n",
       "1459919           1.66         1.0           238           143           1.0   \n",
       "548490            1.10         1.0           162           237           1.0   \n",
       "2564485           8.50         1.0           164            69           2.0   \n",
       "1226392           0.92         1.0           186            68           1.0   \n",
       "1689092           1.40         1.0           229           161           1.0   \n",
       "1962074           2.61         1.0           229           236           1.0   \n",
       "1473645           0.63         1.0           114            79           2.0   \n",
       "2426483           2.09         1.0           234           144           1.0   \n",
       "565078            2.73         1.0             4           261           2.0   \n",
       "1794101           3.10         1.0           161           125           1.0   \n",
       "852830            4.15         1.0           142           158           1.0   \n",
       "887921            2.92         1.0           163           114           1.0   \n",
       "1751041           2.74         1.0           143           164           1.0   \n",
       "2103352           2.66         1.0            50           141           1.0   \n",
       "1813007           1.80         1.0           161           249           1.0   \n",
       "319745            3.00         1.0           229           239           1.0   \n",
       "1611514           1.25         1.0           170           161           1.0   \n",
       "2037260           1.50         1.0           113           164           2.0   \n",
       "1819128           0.94         1.0           236           162           1.0   \n",
       "2056933           1.30         1.0           229            48           1.0   \n",
       "1772588           1.50         1.0           137            68           1.0   \n",
       "2598324           1.60         1.0            79           158           1.0   \n",
       "2291725           0.50         1.0           237           236           1.0   \n",
       "1594329           0.24         1.0            79            79           2.0   \n",
       "1854012           0.64         1.0           137           164           1.0   \n",
       "\n",
       "         fare_amount  extra  mta_tax  tip_amount  tolls_amount  \\\n",
       "338166          17.5    0.0      0.5        0.00          0.00   \n",
       "2338809         10.5    0.0      0.5        2.76          0.00   \n",
       "2177670         46.0    0.0      0.5        0.00          0.00   \n",
       "2342466          6.0    0.0      0.5        1.86          0.00   \n",
       "831387           8.0    0.0      0.5        1.50          0.00   \n",
       "1396100          4.0    0.0      0.5        1.46          0.00   \n",
       "2022947          6.0    2.5      0.5        1.00          0.00   \n",
       "2098323          5.5    0.0      0.5        1.00          0.00   \n",
       "890070          38.5    0.0      0.5        0.00          6.55   \n",
       "732235          25.0    0.0      0.5        7.70          0.00   \n",
       "138296           5.0    1.0      0.5        2.79          0.00   \n",
       "990322           7.0    0.0      0.5        0.00          0.00   \n",
       "2117071          8.5    0.0      0.5        2.36          0.00   \n",
       "1505841         14.5    3.0      0.5        5.45          0.00   \n",
       "2657340          5.5    2.5      0.5        0.00          0.00   \n",
       "1498203          5.5    0.0      0.5        1.00          0.00   \n",
       "699564          13.0    0.5      0.5        3.36          0.00   \n",
       "2245847          6.0    2.5      0.5        1.85          0.00   \n",
       "1799487         12.5    2.5      0.5        0.00          0.00   \n",
       "1459919          8.0    0.0      0.5        2.26          0.00   \n",
       "548490           6.5    0.0      0.5        2.45          0.00   \n",
       "2564485         41.5    3.5      0.5        0.00          0.00   \n",
       "1226392          5.0    1.0      0.5        2.33          0.00   \n",
       "1689092          8.0    3.0      0.5        2.00          0.00   \n",
       "1962074         10.5    0.5      0.5        2.86          0.00   \n",
       "1473645          4.0    0.0      0.5        0.00          0.00   \n",
       "2426483         11.5    0.0      0.5        1.00          0.00   \n",
       "565078          11.5    0.0      0.5        0.00          0.00   \n",
       "1794101         12.0    2.5      0.5        1.50          0.00   \n",
       "852830          15.5    0.0      0.5        3.76          0.00   \n",
       "887921          12.0    0.0      0.5        3.06          0.00   \n",
       "1751041         12.0    1.0      0.5        3.26          0.00   \n",
       "2103352         11.0    0.0      0.5        2.00          0.00   \n",
       "1813007         11.0    2.5      0.5        2.85          0.00   \n",
       "319745          12.5    2.5      0.5        4.70          0.00   \n",
       "1611514          6.5    0.0      0.5        1.96          0.00   \n",
       "2037260          9.5    2.5      0.5        0.00          0.00   \n",
       "1819128          9.0    0.0      0.5        2.21          0.00   \n",
       "2056933          8.0    3.0      0.5        3.50          0.00   \n",
       "1772588          8.5    3.0      0.5        2.45          0.00   \n",
       "2598324          9.5    3.0      0.5        1.20          0.00   \n",
       "2291725          3.5    1.0      0.5        1.95          0.00   \n",
       "1594329          3.0    0.5      0.5        0.00          0.00   \n",
       "1854012          6.0    1.0      0.5        1.00          0.00   \n",
       "\n",
       "         improvement_surcharge  total_amount  congestion_surcharge  \\\n",
       "338166                     0.3         20.80                   2.5   \n",
       "2338809                    0.3         16.56                   2.5   \n",
       "2177670                    0.3         48.05                   0.0   \n",
       "2342466                    0.3         11.16                   2.5   \n",
       "831387                     0.3         12.80                   2.5   \n",
       "1396100                    0.3          8.76                   2.5   \n",
       "2022947                    0.3         10.30                   2.5   \n",
       "2098323                    0.3          9.80                   2.5   \n",
       "890070                     0.3         47.10                   0.0   \n",
       "732235                     0.3         33.50                   0.0   \n",
       "138296                     0.3         12.09                   2.5   \n",
       "990322                     0.3         10.30                   2.5   \n",
       "2117071                    0.3         14.16                   2.5   \n",
       "1505841                    0.3         23.75                   2.5   \n",
       "2657340                    0.3          8.80                   2.5   \n",
       "1498203                    0.3          9.80                   2.5   \n",
       "699564                     0.3         20.16                   2.5   \n",
       "2245847                    0.3         11.15                   2.5   \n",
       "1799487                    0.3         15.80                   2.5   \n",
       "1459919                    0.3         13.56                   2.5   \n",
       "548490                     0.3         12.25                   2.5   \n",
       "2564485                    0.3         45.80                   2.5   \n",
       "1226392                    0.3         11.63                   2.5   \n",
       "1689092                    0.3         13.80                   2.5   \n",
       "1962074                    0.3         17.16                   2.5   \n",
       "1473645                    0.3          7.30                   2.5   \n",
       "2426483                    0.3         15.80                   2.5   \n",
       "565078                     0.3         14.80                   2.5   \n",
       "1794101                    0.3         16.80                   2.5   \n",
       "852830                     0.3         22.56                   2.5   \n",
       "887921                     0.3         18.36                   2.5   \n",
       "1751041                    0.3         19.56                   2.5   \n",
       "2103352                    0.3         16.30                   2.5   \n",
       "1813007                    0.3         17.15                   2.5   \n",
       "319745                     0.3         20.50                   2.5   \n",
       "1611514                    0.3         11.76                   2.5   \n",
       "2037260                    0.3         12.80                   2.5   \n",
       "1819128                    0.3         14.51                   2.5   \n",
       "2056933                    0.3         15.30                   2.5   \n",
       "1772588                    0.3         14.75                   2.5   \n",
       "2598324                    0.3         14.50                   2.5   \n",
       "2291725                    0.3          9.75                   2.5   \n",
       "1594329                    0.3          6.80                   2.5   \n",
       "1854012                    0.3         11.30                   2.5   \n",
       "\n",
       "         car_type_family  \n",
       "338166                 0  \n",
       "2338809                0  \n",
       "2177670                0  \n",
       "2342466                0  \n",
       "831387                 0  \n",
       "1396100                0  \n",
       "2022947                0  \n",
       "2098323                0  \n",
       "890070                 1  \n",
       "732235                 0  \n",
       "138296                 0  \n",
       "990322                 0  \n",
       "2117071                0  \n",
       "1505841                0  \n",
       "2657340                0  \n",
       "1498203                0  \n",
       "699564                 0  \n",
       "2245847                0  \n",
       "1799487                0  \n",
       "1459919                0  \n",
       "548490                 0  \n",
       "2564485                0  \n",
       "1226392                0  \n",
       "1689092                0  \n",
       "1962074                0  \n",
       "1473645                0  \n",
       "2426483                0  \n",
       "565078                 0  \n",
       "1794101                0  \n",
       "852830                 0  \n",
       "887921                 0  \n",
       "1751041                0  \n",
       "2103352                0  \n",
       "1813007                0  \n",
       "319745                 0  \n",
       "1611514                0  \n",
       "2037260                0  \n",
       "1819128                0  \n",
       "2056933                0  \n",
       "1772588                0  \n",
       "2598324                0  \n",
       "2291725                0  \n",
       "1594329                0  \n",
       "1854012                0  "
      ]
     },
     "execution_count": 35,
     "metadata": {},
     "output_type": "execute_result"
    }
   ],
   "source": [
    "df_train.sample(44)"
   ]
  },
  {
   "cell_type": "code",
   "execution_count": 36,
   "id": "d5ac52d8",
   "metadata": {},
   "outputs": [],
   "source": [
    "# explore the day of each trip\n",
    "df_train['tpep_pickup_datetime']=pd.to_datetime(df_train['tpep_pickup_datetime'])\n",
    "df_train['tpep_dropoff_datetime']=pd.to_datetime(df_train['tpep_dropoff_datetime'])\n",
    "df_train['pickup_day_no']=df_train['tpep_pickup_datetime'].dt.weekday\n",
    "df_train['dropoff_day_no']=df_train['tpep_dropoff_datetime'].dt.weekday"
   ]
  },
  {
   "cell_type": "code",
   "execution_count": 37,
   "id": "3ea70c7a",
   "metadata": {},
   "outputs": [
    {
     "data": {
      "text/plain": [
       "1893944    4\n",
       "474787     2\n",
       "2462355    3\n",
       "1503423    6\n",
       "1452644    6\n",
       "          ..\n",
       "722518     5\n",
       "123269     4\n",
       "1906657    4\n",
       "969865     1\n",
       "292431     6\n",
       "Name: pickup_day_no, Length: 2530493, dtype: int64"
      ]
     },
     "execution_count": 37,
     "metadata": {},
     "output_type": "execute_result"
    }
   ],
   "source": [
    "df_train['pickup_day_no'].astype(int)"
   ]
  },
  {
   "cell_type": "code",
   "execution_count": 38,
   "id": "516ca9e6",
   "metadata": {
    "scrolled": true
   },
   "outputs": [
    {
     "data": {
      "text/html": [
       "<div>\n",
       "<style scoped>\n",
       "    .dataframe tbody tr th:only-of-type {\n",
       "        vertical-align: middle;\n",
       "    }\n",
       "\n",
       "    .dataframe tbody tr th {\n",
       "        vertical-align: top;\n",
       "    }\n",
       "\n",
       "    .dataframe thead th {\n",
       "        text-align: right;\n",
       "    }\n",
       "</style>\n",
       "<table border=\"1\" class=\"dataframe\">\n",
       "  <thead>\n",
       "    <tr style=\"text-align: right;\">\n",
       "      <th></th>\n",
       "      <th>VendorID</th>\n",
       "      <th>tpep_pickup_datetime</th>\n",
       "      <th>tpep_dropoff_datetime</th>\n",
       "      <th>passenger_count</th>\n",
       "      <th>trip_distance</th>\n",
       "      <th>RatecodeID</th>\n",
       "      <th>PULocationID</th>\n",
       "      <th>DOLocationID</th>\n",
       "      <th>payment_type</th>\n",
       "      <th>fare_amount</th>\n",
       "      <th>extra</th>\n",
       "      <th>mta_tax</th>\n",
       "      <th>tip_amount</th>\n",
       "      <th>tolls_amount</th>\n",
       "      <th>improvement_surcharge</th>\n",
       "      <th>total_amount</th>\n",
       "      <th>congestion_surcharge</th>\n",
       "      <th>car_type_family</th>\n",
       "      <th>pickup_day_no</th>\n",
       "      <th>dropoff_day_no</th>\n",
       "    </tr>\n",
       "  </thead>\n",
       "  <tbody>\n",
       "    <tr>\n",
       "      <th>1893944</th>\n",
       "      <td>2.0</td>\n",
       "      <td>2021-07-23 08:55:24</td>\n",
       "      <td>2021-07-23 09:00:49</td>\n",
       "      <td>1.0</td>\n",
       "      <td>1.17</td>\n",
       "      <td>1.0</td>\n",
       "      <td>236</td>\n",
       "      <td>237</td>\n",
       "      <td>1.0</td>\n",
       "      <td>6.0</td>\n",
       "      <td>0.0</td>\n",
       "      <td>0.5</td>\n",
       "      <td>1.50</td>\n",
       "      <td>0.0</td>\n",
       "      <td>0.3</td>\n",
       "      <td>10.80</td>\n",
       "      <td>2.5</td>\n",
       "      <td>0</td>\n",
       "      <td>4</td>\n",
       "      <td>4</td>\n",
       "    </tr>\n",
       "    <tr>\n",
       "      <th>474787</th>\n",
       "      <td>2.0</td>\n",
       "      <td>2021-07-07 12:47:35</td>\n",
       "      <td>2021-07-07 12:55:32</td>\n",
       "      <td>2.0</td>\n",
       "      <td>1.72</td>\n",
       "      <td>1.0</td>\n",
       "      <td>170</td>\n",
       "      <td>141</td>\n",
       "      <td>1.0</td>\n",
       "      <td>8.0</td>\n",
       "      <td>0.0</td>\n",
       "      <td>0.5</td>\n",
       "      <td>2.26</td>\n",
       "      <td>0.0</td>\n",
       "      <td>0.3</td>\n",
       "      <td>13.56</td>\n",
       "      <td>2.5</td>\n",
       "      <td>0</td>\n",
       "      <td>2</td>\n",
       "      <td>2</td>\n",
       "    </tr>\n",
       "    <tr>\n",
       "      <th>2462355</th>\n",
       "      <td>2.0</td>\n",
       "      <td>2021-07-29 15:49:00</td>\n",
       "      <td>2021-07-29 16:01:10</td>\n",
       "      <td>1.0</td>\n",
       "      <td>1.90</td>\n",
       "      <td>1.0</td>\n",
       "      <td>142</td>\n",
       "      <td>141</td>\n",
       "      <td>1.0</td>\n",
       "      <td>10.0</td>\n",
       "      <td>0.0</td>\n",
       "      <td>0.5</td>\n",
       "      <td>3.32</td>\n",
       "      <td>0.0</td>\n",
       "      <td>0.3</td>\n",
       "      <td>16.62</td>\n",
       "      <td>2.5</td>\n",
       "      <td>0</td>\n",
       "      <td>3</td>\n",
       "      <td>3</td>\n",
       "    </tr>\n",
       "    <tr>\n",
       "      <th>1503423</th>\n",
       "      <td>2.0</td>\n",
       "      <td>2021-07-18 19:19:25</td>\n",
       "      <td>2021-07-18 19:26:39</td>\n",
       "      <td>1.0</td>\n",
       "      <td>0.89</td>\n",
       "      <td>1.0</td>\n",
       "      <td>229</td>\n",
       "      <td>43</td>\n",
       "      <td>2.0</td>\n",
       "      <td>6.5</td>\n",
       "      <td>0.0</td>\n",
       "      <td>0.5</td>\n",
       "      <td>0.00</td>\n",
       "      <td>0.0</td>\n",
       "      <td>0.3</td>\n",
       "      <td>9.80</td>\n",
       "      <td>2.5</td>\n",
       "      <td>0</td>\n",
       "      <td>6</td>\n",
       "      <td>6</td>\n",
       "    </tr>\n",
       "    <tr>\n",
       "      <th>1452644</th>\n",
       "      <td>2.0</td>\n",
       "      <td>2021-07-18 04:18:14</td>\n",
       "      <td>2021-07-18 04:53:22</td>\n",
       "      <td>1.0</td>\n",
       "      <td>8.32</td>\n",
       "      <td>1.0</td>\n",
       "      <td>186</td>\n",
       "      <td>75</td>\n",
       "      <td>2.0</td>\n",
       "      <td>30.0</td>\n",
       "      <td>0.5</td>\n",
       "      <td>0.5</td>\n",
       "      <td>0.00</td>\n",
       "      <td>0.0</td>\n",
       "      <td>0.3</td>\n",
       "      <td>33.80</td>\n",
       "      <td>2.5</td>\n",
       "      <td>0</td>\n",
       "      <td>6</td>\n",
       "      <td>6</td>\n",
       "    </tr>\n",
       "    <tr>\n",
       "      <th>796634</th>\n",
       "      <td>1.0</td>\n",
       "      <td>2021-07-10 21:19:13</td>\n",
       "      <td>2021-07-10 21:41:26</td>\n",
       "      <td>1.0</td>\n",
       "      <td>3.50</td>\n",
       "      <td>1.0</td>\n",
       "      <td>211</td>\n",
       "      <td>229</td>\n",
       "      <td>2.0</td>\n",
       "      <td>16.0</td>\n",
       "      <td>3.0</td>\n",
       "      <td>0.5</td>\n",
       "      <td>0.00</td>\n",
       "      <td>0.0</td>\n",
       "      <td>0.3</td>\n",
       "      <td>19.80</td>\n",
       "      <td>2.5</td>\n",
       "      <td>0</td>\n",
       "      <td>5</td>\n",
       "      <td>5</td>\n",
       "    </tr>\n",
       "    <tr>\n",
       "      <th>705892</th>\n",
       "      <td>2.0</td>\n",
       "      <td>2021-07-09 21:21:09</td>\n",
       "      <td>2021-07-09 21:35:43</td>\n",
       "      <td>1.0</td>\n",
       "      <td>6.50</td>\n",
       "      <td>1.0</td>\n",
       "      <td>87</td>\n",
       "      <td>142</td>\n",
       "      <td>1.0</td>\n",
       "      <td>20.0</td>\n",
       "      <td>0.5</td>\n",
       "      <td>0.5</td>\n",
       "      <td>4.76</td>\n",
       "      <td>0.0</td>\n",
       "      <td>0.3</td>\n",
       "      <td>28.56</td>\n",
       "      <td>2.5</td>\n",
       "      <td>0</td>\n",
       "      <td>4</td>\n",
       "      <td>4</td>\n",
       "    </tr>\n",
       "    <tr>\n",
       "      <th>341074</th>\n",
       "      <td>2.0</td>\n",
       "      <td>2021-07-05 18:25:07</td>\n",
       "      <td>2021-07-05 18:45:04</td>\n",
       "      <td>1.0</td>\n",
       "      <td>3.78</td>\n",
       "      <td>1.0</td>\n",
       "      <td>100</td>\n",
       "      <td>4</td>\n",
       "      <td>1.0</td>\n",
       "      <td>15.5</td>\n",
       "      <td>0.0</td>\n",
       "      <td>0.5</td>\n",
       "      <td>3.76</td>\n",
       "      <td>0.0</td>\n",
       "      <td>0.3</td>\n",
       "      <td>22.56</td>\n",
       "      <td>2.5</td>\n",
       "      <td>0</td>\n",
       "      <td>0</td>\n",
       "      <td>0</td>\n",
       "    </tr>\n",
       "    <tr>\n",
       "      <th>1021252</th>\n",
       "      <td>2.0</td>\n",
       "      <td>2021-07-13 17:39:48</td>\n",
       "      <td>2021-07-13 17:52:45</td>\n",
       "      <td>1.0</td>\n",
       "      <td>3.90</td>\n",
       "      <td>1.0</td>\n",
       "      <td>231</td>\n",
       "      <td>50</td>\n",
       "      <td>1.0</td>\n",
       "      <td>14.0</td>\n",
       "      <td>1.0</td>\n",
       "      <td>0.5</td>\n",
       "      <td>3.66</td>\n",
       "      <td>0.0</td>\n",
       "      <td>0.3</td>\n",
       "      <td>21.96</td>\n",
       "      <td>2.5</td>\n",
       "      <td>0</td>\n",
       "      <td>1</td>\n",
       "      <td>1</td>\n",
       "    </tr>\n",
       "    <tr>\n",
       "      <th>2557521</th>\n",
       "      <td>1.0</td>\n",
       "      <td>2021-07-30 16:10:02</td>\n",
       "      <td>2021-07-30 16:17:47</td>\n",
       "      <td>1.0</td>\n",
       "      <td>1.50</td>\n",
       "      <td>1.0</td>\n",
       "      <td>161</td>\n",
       "      <td>236</td>\n",
       "      <td>2.0</td>\n",
       "      <td>7.5</td>\n",
       "      <td>3.5</td>\n",
       "      <td>0.5</td>\n",
       "      <td>0.00</td>\n",
       "      <td>0.0</td>\n",
       "      <td>0.3</td>\n",
       "      <td>11.80</td>\n",
       "      <td>2.5</td>\n",
       "      <td>0</td>\n",
       "      <td>4</td>\n",
       "      <td>4</td>\n",
       "    </tr>\n",
       "  </tbody>\n",
       "</table>\n",
       "</div>"
      ],
      "text/plain": [
       "         VendorID tpep_pickup_datetime tpep_dropoff_datetime  passenger_count  \\\n",
       "1893944       2.0  2021-07-23 08:55:24   2021-07-23 09:00:49              1.0   \n",
       "474787        2.0  2021-07-07 12:47:35   2021-07-07 12:55:32              2.0   \n",
       "2462355       2.0  2021-07-29 15:49:00   2021-07-29 16:01:10              1.0   \n",
       "1503423       2.0  2021-07-18 19:19:25   2021-07-18 19:26:39              1.0   \n",
       "1452644       2.0  2021-07-18 04:18:14   2021-07-18 04:53:22              1.0   \n",
       "796634        1.0  2021-07-10 21:19:13   2021-07-10 21:41:26              1.0   \n",
       "705892        2.0  2021-07-09 21:21:09   2021-07-09 21:35:43              1.0   \n",
       "341074        2.0  2021-07-05 18:25:07   2021-07-05 18:45:04              1.0   \n",
       "1021252       2.0  2021-07-13 17:39:48   2021-07-13 17:52:45              1.0   \n",
       "2557521       1.0  2021-07-30 16:10:02   2021-07-30 16:17:47              1.0   \n",
       "\n",
       "         trip_distance  RatecodeID  PULocationID  DOLocationID  payment_type  \\\n",
       "1893944           1.17         1.0           236           237           1.0   \n",
       "474787            1.72         1.0           170           141           1.0   \n",
       "2462355           1.90         1.0           142           141           1.0   \n",
       "1503423           0.89         1.0           229            43           2.0   \n",
       "1452644           8.32         1.0           186            75           2.0   \n",
       "796634            3.50         1.0           211           229           2.0   \n",
       "705892            6.50         1.0            87           142           1.0   \n",
       "341074            3.78         1.0           100             4           1.0   \n",
       "1021252           3.90         1.0           231            50           1.0   \n",
       "2557521           1.50         1.0           161           236           2.0   \n",
       "\n",
       "         fare_amount  extra  mta_tax  tip_amount  tolls_amount  \\\n",
       "1893944          6.0    0.0      0.5        1.50           0.0   \n",
       "474787           8.0    0.0      0.5        2.26           0.0   \n",
       "2462355         10.0    0.0      0.5        3.32           0.0   \n",
       "1503423          6.5    0.0      0.5        0.00           0.0   \n",
       "1452644         30.0    0.5      0.5        0.00           0.0   \n",
       "796634          16.0    3.0      0.5        0.00           0.0   \n",
       "705892          20.0    0.5      0.5        4.76           0.0   \n",
       "341074          15.5    0.0      0.5        3.76           0.0   \n",
       "1021252         14.0    1.0      0.5        3.66           0.0   \n",
       "2557521          7.5    3.5      0.5        0.00           0.0   \n",
       "\n",
       "         improvement_surcharge  total_amount  congestion_surcharge  \\\n",
       "1893944                    0.3         10.80                   2.5   \n",
       "474787                     0.3         13.56                   2.5   \n",
       "2462355                    0.3         16.62                   2.5   \n",
       "1503423                    0.3          9.80                   2.5   \n",
       "1452644                    0.3         33.80                   2.5   \n",
       "796634                     0.3         19.80                   2.5   \n",
       "705892                     0.3         28.56                   2.5   \n",
       "341074                     0.3         22.56                   2.5   \n",
       "1021252                    0.3         21.96                   2.5   \n",
       "2557521                    0.3         11.80                   2.5   \n",
       "\n",
       "         car_type_family  pickup_day_no  dropoff_day_no  \n",
       "1893944                0              4               4  \n",
       "474787                 0              2               2  \n",
       "2462355                0              3               3  \n",
       "1503423                0              6               6  \n",
       "1452644                0              6               6  \n",
       "796634                 0              5               5  \n",
       "705892                 0              4               4  \n",
       "341074                 0              0               0  \n",
       "1021252                0              1               1  \n",
       "2557521                0              4               4  "
      ]
     },
     "execution_count": 38,
     "metadata": {},
     "output_type": "execute_result"
    }
   ],
   "source": [
    "df_train.head(10)"
   ]
  },
  {
   "cell_type": "code",
   "execution_count": 39,
   "id": "a7abdb52",
   "metadata": {},
   "outputs": [],
   "source": [
    "#overwrite to creat a sample.\n",
    "df_train_sample=df_train.sample(100000,random_state=199 )"
   ]
  },
  {
   "cell_type": "code",
   "execution_count": 40,
   "id": "e0aa087a",
   "metadata": {},
   "outputs": [
    {
     "name": "stdout",
     "output_type": "stream",
     "text": [
      "<class 'pandas.core.frame.DataFrame'>\n",
      "Int64Index: 100000 entries, 2431579 to 1577401\n",
      "Data columns (total 20 columns):\n",
      " #   Column                 Non-Null Count   Dtype         \n",
      "---  ------                 --------------   -----         \n",
      " 0   VendorID               100000 non-null  float64       \n",
      " 1   tpep_pickup_datetime   100000 non-null  datetime64[ns]\n",
      " 2   tpep_dropoff_datetime  100000 non-null  datetime64[ns]\n",
      " 3   passenger_count        100000 non-null  float64       \n",
      " 4   trip_distance          100000 non-null  float64       \n",
      " 5   RatecodeID             100000 non-null  float64       \n",
      " 6   PULocationID           100000 non-null  int64         \n",
      " 7   DOLocationID           100000 non-null  int64         \n",
      " 8   payment_type           100000 non-null  float64       \n",
      " 9   fare_amount            100000 non-null  float64       \n",
      " 10  extra                  100000 non-null  float64       \n",
      " 11  mta_tax                100000 non-null  float64       \n",
      " 12  tip_amount             100000 non-null  float64       \n",
      " 13  tolls_amount           100000 non-null  float64       \n",
      " 14  improvement_surcharge  100000 non-null  float64       \n",
      " 15  total_amount           100000 non-null  float64       \n",
      " 16  congestion_surcharge   100000 non-null  float64       \n",
      " 17  car_type_family        100000 non-null  uint8         \n",
      " 18  pickup_day_no          100000 non-null  int64         \n",
      " 19  dropoff_day_no         100000 non-null  int64         \n",
      "dtypes: datetime64[ns](2), float64(13), int64(4), uint8(1)\n",
      "memory usage: 15.4 MB\n"
     ]
    }
   ],
   "source": [
    "df_train_sample.info()"
   ]
  },
  {
   "cell_type": "markdown",
   "id": "bf2da264",
   "metadata": {},
   "source": [
    "## Data Visualization for data train sample"
   ]
  },
  {
   "cell_type": "code",
   "execution_count": 41,
   "id": "e019f794",
   "metadata": {
    "scrolled": false
   },
   "outputs": [
    {
     "data": {
      "image/png": "[encoded data removed]",
      "text/plain": [
       "<Figure size 576x576 with 1 Axes>"
      ]
     },
     "metadata": {},
     "output_type": "display_data"
    }
   ],
   "source": [
    "# visual a providers of taxi service by using a pie figure.\n",
    "labels = ['Creative Mobile Technologies, LLC','VeriFone Inc']\n",
    "sizes = df_train_sample['VendorID'].value_counts()\n",
    "plt.figure(figsize = (8,8))\n",
    "plt.pie(sizes, labels=labels, autopct='%1.1f%%' ,colors = ['#ADD8E6','#007399'])\n",
    "plt.title(\"Distribution of VendorID\",color = 'black',fontsize = 15);"
   ]
  },
  {
   "cell_type": "markdown",
   "id": "a2073aa2",
   "metadata": {},
   "source": [
    "                         The providers for taxi service"
   ]
  },
  {
   "cell_type": "code",
   "execution_count": 42,
   "id": "4e16ee5f",
   "metadata": {
    "scrolled": false
   },
   "outputs": [
    {
     "data": {
      "image/png": "[encoded data removed]",
      "text/plain": [
       "<Figure size 864x576 with 1 Axes>"
      ]
     },
     "metadata": {
      "needs_background": "light"
     },
     "output_type": "display_data"
    }
   ],
   "source": [
    "# to catch a distriution of payment type by using bar plot. \n",
    "labels=['Credit card','Cash','No charge','Dispute']\n",
    "plt.figure(figsize=(12,8))\n",
    "fig=df_train_sample['payment_type'].value_counts().plot(kind='bar', title= 'Distribution payment type' ,  rot=0)\n",
    "plt.xlabel('payment_type',fontsize = 20);\n",
    "plt.ylabel('count',fontsize = 20);\n",
    "fig.set_xticklabels(labels);"
   ]
  },
  {
   "cell_type": "markdown",
   "id": "e306d823",
   "metadata": {},
   "source": [
    "### In this figure show a payment types"
   ]
  },
  {
   "cell_type": "code",
   "execution_count": 43,
   "id": "220f48e7",
   "metadata": {
    "scrolled": false
   },
   "outputs": [
    {
     "data": {
      "image/png": "[encoded data removed]",
      "text/plain": [
       "<Figure size 1080x648 with 1 Axes>"
      ]
     },
     "metadata": {
      "needs_background": "light"
     },
     "output_type": "display_data"
    }
   ],
   "source": [
    "# comparison between a days. \n",
    "labels=['Thu','Fri','Sat','Wed','Tue','Mon','Sun']\n",
    "fig=df_train_sample['pickup_day_no'].value_counts().plot(kind='bar', title= 'trips in days' , figsize=(15,9), rot=0)\n",
    "plt.xlabel('Days',fontsize = 20);\n",
    "plt.ylabel('count',fontsize = 20);\n",
    "fig.set_xticklabels(labels);"
   ]
  },
  {
   "cell_type": "markdown",
   "id": "2a2f08e1",
   "metadata": {},
   "source": [
    "### graph shows how many trips in each day."
   ]
  },
  {
   "cell_type": "code",
   "execution_count": 44,
   "id": "70783f8b",
   "metadata": {},
   "outputs": [
    {
     "data": {
      "image/png": "[encoded data removed]",
      "text/plain": [
       "<Figure size 1800x1080 with 2 Axes>"
      ]
     },
     "metadata": {
      "needs_background": "light"
     },
     "output_type": "display_data"
    }
   ],
   "source": [
    "# show a correlations between Xs and target.\n",
    "plt.figure(figsize=(25, 15))\n",
    "sns.heatmap(df_train_sample.corr());"
   ]
  },
  {
   "cell_type": "code",
   "execution_count": 45,
   "id": "cb805c4d",
   "metadata": {},
   "outputs": [],
   "source": [
    "df_train_sample1=df_train_sample.loc[:,['trip_distance', 'RatecodeID', 'payment_type', \n",
    "                      'fare_amount', 'extra', 'mta_tax',  \n",
    "                      'tip_amount', 'tolls_amount', 'improvement_surcharge', \n",
    "                      'congestion_surcharge','total_amount']]"
   ]
  },
  {
   "cell_type": "code",
   "execution_count": 46,
   "id": "5399bc4b",
   "metadata": {},
   "outputs": [
    {
     "data": {
      "image/png": "[encoded data removed]",
      "text/plain": [
       "<Figure size 1152x432 with 2 Axes>"
      ]
     },
     "metadata": {
      "needs_background": "light"
     },
     "output_type": "display_data"
    }
   ],
   "source": [
    "plt.figure(figsize=(16, 6))\n",
    "sns.heatmap(df_train_sample1.corr());"
   ]
  },
  {
   "cell_type": "markdown",
   "id": "7d255492",
   "metadata": {},
   "source": [
    "### Correlation is a statistical measure that expresses\n",
    "#### the extent to which two variables are linearly related (meaning they change together at a constant rate). \n",
    "#### In this heatmap noticed  a correlation between (trip_distance,total_amount), (RatecodeID,total_amount),\n",
    "#### (fare_amount,total_amount), (tip_amount,total_amount), and (tolls_amount,Total_amount)"
   ]
  },
  {
   "cell_type": "code",
   "execution_count": 47,
   "id": "7701f84e",
   "metadata": {},
   "outputs": [
    {
     "data": {
      "image/png": "[encoded data removed]",
      "text/plain": [
       "<Figure size 1980x1980 with 132 Axes>"
      ]
     },
     "metadata": {
      "needs_background": "light"
     },
     "output_type": "display_data"
    }
   ],
   "source": [
    "\n",
    "g = sns.pairplot(df_train_sample1[:1000], kind='reg')\n",
    "\n",
    "#g = sns.pairplot(df_train_sample)"
   ]
  },
  {
   "cell_type": "markdown",
   "id": "de15dd6b",
   "metadata": {},
   "source": [
    "### Plot pairwise relationships \n",
    "#### By default, this function will create a grid of Axes such that each numeric variable in data\n",
    "#### will be shared across the y-axes across a single row and the x-axes across a single column.\n",
    "#### The diagonal plots are treated differently: a univariate distribution plot \n",
    "#### is drawn to show the marginal distribution of the data in each column."
   ]
  },
  {
   "cell_type": "markdown",
   "id": "d10cb104",
   "metadata": {},
   "source": [
    "## Data Pre-Processing for data validation "
   ]
  },
  {
   "cell_type": "code",
   "execution_count": 48,
   "id": "e7c6382d",
   "metadata": {},
   "outputs": [
    {
     "data": {
      "text/plain": [
       "(27933, 18)"
      ]
     },
     "execution_count": 48,
     "metadata": {},
     "output_type": "execute_result"
    }
   ],
   "source": [
    "#number of rows and columns \n",
    "df_val.shape"
   ]
  },
  {
   "cell_type": "code",
   "execution_count": 49,
   "id": "4c7d387d",
   "metadata": {},
   "outputs": [],
   "source": [
    "#drop in useful column that contains data it will not be used in data analysis \n",
    "df_val=df_val.drop('store_and_fwd_flag', axis=1)"
   ]
  },
  {
   "cell_type": "code",
   "execution_count": 50,
   "id": "191f24ab",
   "metadata": {},
   "outputs": [
    {
     "data": {
      "text/plain": [
       "(27933, 17)"
      ]
     },
     "execution_count": 50,
     "metadata": {},
     "output_type": "execute_result"
    }
   ],
   "source": [
    "#number of rows and columns \n",
    "\n",
    "df_val.shape"
   ]
  },
  {
   "cell_type": "markdown",
   "id": "eb588fef",
   "metadata": {},
   "source": [
    "### Check if there are NULL value \n"
   ]
  },
  {
   "cell_type": "code",
   "execution_count": 51,
   "id": "c568f8fc",
   "metadata": {},
   "outputs": [
    {
     "data": {
      "text/plain": [
       "VendorID                 1284\n",
       "tpep_pickup_datetime        0\n",
       "tpep_dropoff_datetime       0\n",
       "passenger_count          1284\n",
       "trip_distance               0\n",
       "RatecodeID               1284\n",
       "PULocationID                0\n",
       "DOLocationID                0\n",
       "payment_type             1284\n",
       "fare_amount                 0\n",
       "extra                       0\n",
       "mta_tax                     0\n",
       "tip_amount                  0\n",
       "tolls_amount                0\n",
       "improvement_surcharge       0\n",
       "total_amount                0\n",
       "congestion_surcharge        0\n",
       "dtype: int64"
      ]
     },
     "execution_count": 51,
     "metadata": {},
     "output_type": "execute_result"
    }
   ],
   "source": [
    "df_val.isnull().sum()"
   ]
  },
  {
   "cell_type": "code",
   "execution_count": 52,
   "id": "bf46a7aa",
   "metadata": {},
   "outputs": [],
   "source": [
    "#drop the null\n",
    "df_val=df_val.dropna(how='any')"
   ]
  },
  {
   "cell_type": "code",
   "execution_count": 155,
   "id": "8dc8a03f",
   "metadata": {},
   "outputs": [
    {
     "data": {
      "text/plain": [
       "VendorID                 0\n",
       "tpep_pickup_datetime     0\n",
       "tpep_dropoff_datetime    0\n",
       "passenger_count          0\n",
       "trip_distance            0\n",
       "RatecodeID               0\n",
       "PULocationID             0\n",
       "DOLocationID             0\n",
       "payment_type             0\n",
       "fare_amount              0\n",
       "extra                    0\n",
       "mta_tax                  0\n",
       "tip_amount               0\n",
       "tolls_amount             0\n",
       "improvement_surcharge    0\n",
       "total_amount             0\n",
       "congestion_surcharge     0\n",
       "car_type_family          0\n",
       "pickup_day_no            0\n",
       "dropoff_day_no           0\n",
       "dtype: int64"
      ]
     },
     "execution_count": 155,
     "metadata": {},
     "output_type": "execute_result"
    }
   ],
   "source": [
    "df_val.isnull().sum()"
   ]
  },
  {
   "cell_type": "code",
   "execution_count": 54,
   "id": "2475f715",
   "metadata": {},
   "outputs": [
    {
     "data": {
      "text/plain": [
       "1.0    18972\n",
       "2.0     4134\n",
       "3.0     1202\n",
       "5.0      712\n",
       "0.0      691\n",
       "4.0      479\n",
       "6.0      457\n",
       "7.0        1\n",
       "9.0        1\n",
       "Name: passenger_count, dtype: int64"
      ]
     },
     "execution_count": 54,
     "metadata": {},
     "output_type": "execute_result"
    }
   ],
   "source": [
    "#Check the count value\n",
    "df_val['passenger_count'].value_counts()"
   ]
  },
  {
   "cell_type": "code",
   "execution_count": 55,
   "id": "503714eb",
   "metadata": {},
   "outputs": [],
   "source": [
    "#drop the 0,9,7,8\n",
    "df_val=df_val.drop(df_val[df_val.passenger_count.values==0].index)\n",
    "df_val=df_val.drop(df_val[df_val.passenger_count.values==9].index)\n",
    "df_val=df_val.drop(df_val[df_val.passenger_count.values==8].index)\n",
    "df_val=df_val.drop(df_val[df_val.passenger_count.values==7].index)"
   ]
  },
  {
   "cell_type": "code",
   "execution_count": 56,
   "id": "d01e0438",
   "metadata": {},
   "outputs": [
    {
     "data": {
      "text/plain": [
       "1.0    18972\n",
       "2.0     4134\n",
       "3.0     1202\n",
       "5.0      712\n",
       "4.0      479\n",
       "6.0      457\n",
       "Name: passenger_count, dtype: int64"
      ]
     },
     "execution_count": 56,
     "metadata": {},
     "output_type": "execute_result"
    }
   ],
   "source": [
    "df_val['passenger_count'].value_counts()"
   ]
  },
  {
   "cell_type": "code",
   "execution_count": 57,
   "id": "ec5563ba",
   "metadata": {},
   "outputs": [
    {
     "data": {
      "text/html": [
       "<div>\n",
       "<style scoped>\n",
       "    .dataframe tbody tr th:only-of-type {\n",
       "        vertical-align: middle;\n",
       "    }\n",
       "\n",
       "    .dataframe tbody tr th {\n",
       "        vertical-align: top;\n",
       "    }\n",
       "\n",
       "    .dataframe thead th {\n",
       "        text-align: right;\n",
       "    }\n",
       "</style>\n",
       "<table border=\"1\" class=\"dataframe\">\n",
       "  <thead>\n",
       "    <tr style=\"text-align: right;\">\n",
       "      <th></th>\n",
       "      <th>VendorID</th>\n",
       "      <th>tpep_pickup_datetime</th>\n",
       "      <th>tpep_dropoff_datetime</th>\n",
       "      <th>passenger_count</th>\n",
       "      <th>trip_distance</th>\n",
       "      <th>RatecodeID</th>\n",
       "      <th>PULocationID</th>\n",
       "      <th>DOLocationID</th>\n",
       "      <th>payment_type</th>\n",
       "      <th>fare_amount</th>\n",
       "      <th>extra</th>\n",
       "      <th>mta_tax</th>\n",
       "      <th>tip_amount</th>\n",
       "      <th>tolls_amount</th>\n",
       "      <th>improvement_surcharge</th>\n",
       "      <th>total_amount</th>\n",
       "      <th>congestion_surcharge</th>\n",
       "      <th>car_type_family</th>\n",
       "    </tr>\n",
       "  </thead>\n",
       "  <tbody>\n",
       "    <tr>\n",
       "      <th>2678986</th>\n",
       "      <td>2.0</td>\n",
       "      <td>2021-07-31 21:26:48</td>\n",
       "      <td>2021-07-31 21:31:30</td>\n",
       "      <td>2.0</td>\n",
       "      <td>0.85</td>\n",
       "      <td>1.0</td>\n",
       "      <td>141</td>\n",
       "      <td>262</td>\n",
       "      <td>1.0</td>\n",
       "      <td>5.0</td>\n",
       "      <td>0.5</td>\n",
       "      <td>0.5</td>\n",
       "      <td>1.76</td>\n",
       "      <td>0.0</td>\n",
       "      <td>0.3</td>\n",
       "      <td>10.56</td>\n",
       "      <td>2.5</td>\n",
       "      <td>0</td>\n",
       "    </tr>\n",
       "    <tr>\n",
       "      <th>1000340</th>\n",
       "      <td>2.0</td>\n",
       "      <td>2021-07-13 14:46:25</td>\n",
       "      <td>2021-07-13 14:50:20</td>\n",
       "      <td>5.0</td>\n",
       "      <td>0.51</td>\n",
       "      <td>1.0</td>\n",
       "      <td>264</td>\n",
       "      <td>264</td>\n",
       "      <td>2.0</td>\n",
       "      <td>4.5</td>\n",
       "      <td>0.0</td>\n",
       "      <td>0.5</td>\n",
       "      <td>0.00</td>\n",
       "      <td>0.0</td>\n",
       "      <td>0.3</td>\n",
       "      <td>7.80</td>\n",
       "      <td>2.5</td>\n",
       "      <td>1</td>\n",
       "    </tr>\n",
       "    <tr>\n",
       "      <th>1072388</th>\n",
       "      <td>2.0</td>\n",
       "      <td>2021-07-14 10:52:08</td>\n",
       "      <td>2021-07-14 11:00:06</td>\n",
       "      <td>1.0</td>\n",
       "      <td>0.76</td>\n",
       "      <td>1.0</td>\n",
       "      <td>162</td>\n",
       "      <td>163</td>\n",
       "      <td>1.0</td>\n",
       "      <td>6.5</td>\n",
       "      <td>0.0</td>\n",
       "      <td>0.5</td>\n",
       "      <td>1.96</td>\n",
       "      <td>0.0</td>\n",
       "      <td>0.3</td>\n",
       "      <td>11.76</td>\n",
       "      <td>2.5</td>\n",
       "      <td>0</td>\n",
       "    </tr>\n",
       "  </tbody>\n",
       "</table>\n",
       "</div>"
      ],
      "text/plain": [
       "         VendorID tpep_pickup_datetime tpep_dropoff_datetime  passenger_count  \\\n",
       "2678986       2.0  2021-07-31 21:26:48   2021-07-31 21:31:30              2.0   \n",
       "1000340       2.0  2021-07-13 14:46:25   2021-07-13 14:50:20              5.0   \n",
       "1072388       2.0  2021-07-14 10:52:08   2021-07-14 11:00:06              1.0   \n",
       "\n",
       "         trip_distance  RatecodeID  PULocationID  DOLocationID  payment_type  \\\n",
       "2678986           0.85         1.0           141           262           1.0   \n",
       "1000340           0.51         1.0           264           264           2.0   \n",
       "1072388           0.76         1.0           162           163           1.0   \n",
       "\n",
       "         fare_amount  extra  mta_tax  tip_amount  tolls_amount  \\\n",
       "2678986          5.0    0.5      0.5        1.76           0.0   \n",
       "1000340          4.5    0.0      0.5        0.00           0.0   \n",
       "1072388          6.5    0.0      0.5        1.96           0.0   \n",
       "\n",
       "         improvement_surcharge  total_amount  congestion_surcharge  \\\n",
       "2678986                    0.3         10.56                   2.5   \n",
       "1000340                    0.3          7.80                   2.5   \n",
       "1072388                    0.3         11.76                   2.5   \n",
       "\n",
       "         car_type_family  \n",
       "2678986                0  \n",
       "1000340                1  \n",
       "1072388                0  "
      ]
     },
     "execution_count": 57,
     "metadata": {},
     "output_type": "execute_result"
    }
   ],
   "source": [
    "df_val['car_type']= df_val.passenger_count.apply(car_type)\n",
    "\n",
    "df_val = pd.get_dummies(df_val, columns=['car_type'],drop_first=True)\n",
    "\n",
    "#\n",
    "df_val.head(3)"
   ]
  },
  {
   "cell_type": "code",
   "execution_count": 58,
   "id": "0b8edb11",
   "metadata": {},
   "outputs": [],
   "source": [
    "df_val['tpep_pickup_datetime']=pd.to_datetime(df_val['tpep_pickup_datetime'])\n",
    "df_val['tpep_dropoff_datetime']=pd.to_datetime(df_val['tpep_dropoff_datetime'])\n",
    "df_val['pickup_day_no']=df_val['tpep_pickup_datetime'].dt.weekday\n",
    "df_val['dropoff_day_no']=df_val['tpep_dropoff_datetime'].dt.weekday"
   ]
  },
  {
   "cell_type": "code",
   "execution_count": 59,
   "id": "994d6822",
   "metadata": {},
   "outputs": [],
   "source": [
    "#drop the negative value \n",
    "df_val=df_val.drop(df_val[df_val.total_amount.values<=0].index)"
   ]
  },
  {
   "cell_type": "code",
   "execution_count": 60,
   "id": "c20cb1ec",
   "metadata": {},
   "outputs": [],
   "source": [
    "#drop the negative value \n",
    "df_val=df_val.drop(df_val[df_val.trip_distance.values<=0].index)"
   ]
  },
  {
   "cell_type": "code",
   "execution_count": 61,
   "id": "6bd0221a",
   "metadata": {},
   "outputs": [
    {
     "data": {
      "text/plain": [
       "2678986    5\n",
       "1000340    1\n",
       "1072388    2\n",
       "1151453    2\n",
       "2288237    1\n",
       "          ..\n",
       "1499387    6\n",
       "416852     1\n",
       "381131     1\n",
       "1438933    5\n",
       "1996447    5\n",
       "Name: pickup_day_no, Length: 25546, dtype: int64"
      ]
     },
     "execution_count": 61,
     "metadata": {},
     "output_type": "execute_result"
    }
   ],
   "source": [
    "df_val['pickup_day_no'].astype(int)"
   ]
  },
  {
   "cell_type": "code",
   "execution_count": 62,
   "id": "b4e6c398",
   "metadata": {},
   "outputs": [
    {
     "data": {
      "text/plain": [
       "(25546, 20)"
      ]
     },
     "execution_count": 62,
     "metadata": {},
     "output_type": "execute_result"
    }
   ],
   "source": [
    "df_val.shape"
   ]
  },
  {
   "cell_type": "markdown",
   "id": "54e4dc10",
   "metadata": {},
   "source": [
    "## Model "
   ]
  },
  {
   "cell_type": "code",
   "execution_count": 137,
   "id": "29851e2e",
   "metadata": {},
   "outputs": [],
   "source": [
    "# select a Xs which have correlation with target in train.\n",
    "X_train = df_train.loc[:,['trip_distance', 'RatecodeID',\n",
    "                       'extra', 'pickup_day_no',\n",
    "                       'tolls_amount', \n",
    "                        'car_type_family']]\n",
    "\n",
    "y_train = df_train['total_amount']"
   ]
  },
  {
   "cell_type": "code",
   "execution_count": 138,
   "id": "49b31bd5",
   "metadata": {},
   "outputs": [],
   "source": [
    "# select a Xs which have correlation with target in valdation.\n",
    "X_val = df_val.loc[:,['trip_distance', 'RatecodeID', \n",
    "                       'extra', 'pickup_day_no',\n",
    "                       'tolls_amount',  \n",
    "                       'car_type_family']]\n",
    "\n",
    "y_val = df_val['total_amount']"
   ]
  },
  {
   "cell_type": "code",
   "execution_count": 139,
   "id": "b1b30e3e",
   "metadata": {},
   "outputs": [],
   "source": [
    "# build a moudel.\n",
    "scaler = StandardScaler()\n",
    "X_train_scaled = scaler.fit_transform(X_train.values)\n",
    "X_val_scaled = scaler.transform(X_val.values)"
   ]
  },
  {
   "cell_type": "code",
   "execution_count": 140,
   "id": "071e4e98",
   "metadata": {},
   "outputs": [
    {
     "data": {
      "text/plain": [
       "0.7714287888085907"
      ]
     },
     "execution_count": 140,
     "metadata": {},
     "output_type": "execute_result"
    }
   ],
   "source": [
    "# linear regression model\n",
    "lm = LinearRegression()\n",
    "lm.fit(X_train_scaled, y_train)\n",
    "lm.score(X_train_scaled, y_train)"
   ]
  },
  {
   "cell_type": "code",
   "execution_count": 141,
   "id": "ca3b3b61",
   "metadata": {},
   "outputs": [
    {
     "data": {
      "text/plain": [
       "0.7466300098708141"
      ]
     },
     "execution_count": 141,
     "metadata": {},
     "output_type": "execute_result"
    }
   ],
   "source": [
    "lm.score(X_val_scaled, y_val)"
   ]
  },
  {
   "cell_type": "code",
   "execution_count": 142,
   "id": "b5fb0750",
   "metadata": {
    "scrolled": false
   },
   "outputs": [
    {
     "name": "stdout",
     "output_type": "stream",
     "text": [
      "7.057038358293099\n",
      "3.117698110297238\n"
     ]
    }
   ],
   "source": [
    "#The rmse and mae for the data train in linear model.\n",
    "preds_train = lm.predict(X_train_scaled)\n",
    "rmse = mean_squared_error(y_train, preds_train, squared=False)\n",
    "mae = mean_absolute_error(y_train, preds_train)\n",
    "print(rmse)\n",
    "print(mae)"
   ]
  },
  {
   "cell_type": "code",
   "execution_count": 143,
   "id": "4f5cb3a5",
   "metadata": {},
   "outputs": [
    {
     "name": "stdout",
     "output_type": "stream",
     "text": [
      "7.25102763463242\n",
      "3.1005720226441014\n"
     ]
    }
   ],
   "source": [
    "#The rmse and mae for the data valdition in linear model.\n",
    "preds_val = lm.predict(X_val_scaled)\n",
    "rmse = mean_squared_error(y_val, preds_val, squared=False)\n",
    "mae = mean_absolute_error(y_val, preds_val)\n",
    "print(rmse)\n",
    "print(mae)"
   ]
  },
  {
   "cell_type": "code",
   "execution_count": 144,
   "id": "17c93029",
   "metadata": {},
   "outputs": [],
   "source": [
    "# Polynomial regression model\n",
    "poly = PolynomialFeatures(degree=2) "
   ]
  },
  {
   "cell_type": "code",
   "execution_count": 145,
   "id": "f738123f",
   "metadata": {},
   "outputs": [],
   "source": [
    "X_train_poly = poly.fit_transform(X_train.values)\n",
    "X_val_poly = poly.transform(X_val.values)"
   ]
  },
  {
   "cell_type": "code",
   "execution_count": 146,
   "id": "8fe9dc2c",
   "metadata": {},
   "outputs": [],
   "source": [
    "lm_poly = LinearRegression()"
   ]
  },
  {
   "cell_type": "code",
   "execution_count": 147,
   "id": "292d6dfe",
   "metadata": {},
   "outputs": [
    {
     "name": "stdout",
     "output_type": "stream",
     "text": [
      "Degree 2 polynomial regression train R^2: 0.871\n",
      "Degree 2 polynomial regression val R^2: 0.889\n"
     ]
    }
   ],
   "source": [
    "lm_poly.fit(X_train_poly, y_train)\n",
    "print(f'Degree 2 polynomial regression train R^2: {lm_poly.score(X_train_poly, y_train):.3f}')\n",
    "print(f'Degree 2 polynomial regression val R^2: {lm_poly.score(X_val_poly, y_val):.3f}')"
   ]
  },
  {
   "cell_type": "code",
   "execution_count": 148,
   "id": "59ebaae4",
   "metadata": {},
   "outputs": [
    {
     "name": "stdout",
     "output_type": "stream",
     "text": [
      "5.294967280004885\n",
      "2.660820300604694\n"
     ]
    }
   ],
   "source": [
    "#The rmse and mae for the data train in ploynomial.\n",
    "preds_train = lm_poly.predict(X_train_poly)\n",
    "rmse = mean_squared_error(y_train, preds_train, squared=False)\n",
    "mae = mean_absolute_error(y_train, preds_train)\n",
    "print(rmse)\n",
    "print(mae)"
   ]
  },
  {
   "cell_type": "code",
   "execution_count": 149,
   "id": "a3de119a",
   "metadata": {},
   "outputs": [
    {
     "name": "stdout",
     "output_type": "stream",
     "text": [
      "4.800398615835284\n",
      "2.6221954800942724\n"
     ]
    }
   ],
   "source": [
    "#The rmse and mae for valdtion data in ploynomial.\n",
    "preds_val = lm_poly.predict(X_val_poly)\n",
    "rmse = mean_squared_error(y_val, preds_val, squared=False)\n",
    "mae = mean_absolute_error(y_val, preds_val)\n",
    "print(rmse)\n",
    "print(mae)"
   ]
  },
  {
   "cell_type": "code",
   "execution_count": 150,
   "id": "944fa92f",
   "metadata": {},
   "outputs": [],
   "source": [
    "# extract the alpha \n",
    "alphalist = 10**(np.linspace(-2,2,200))\n",
    "err_vec_val = np.zeros(len(alphalist))\n",
    "err_vec_train = np.zeros(len(alphalist))\n",
    "\n",
    "for i,curr_alpha in enumerate(alphalist):\n",
    "\n",
    "    steps = [('standardize', StandardScaler()), \n",
    "             ('lasso', Lasso(alpha = curr_alpha))]\n",
    "\n",
    "    pipe = Pipeline(steps)\n",
    "    pipe.fit(X_train, y_train)\n",
    "    val_set_pred = pipe.predict(X_val)\n",
    "    err_vec_val[i] = mean_absolute_error(y_val, val_set_pred)\n",
    "    \n",
    "    "
   ]
  },
  {
   "cell_type": "code",
   "execution_count": 151,
   "id": "6f77345c",
   "metadata": {},
   "outputs": [
    {
     "data": {
      "text/plain": [
       "0.01"
      ]
     },
     "execution_count": 151,
     "metadata": {},
     "output_type": "execute_result"
    }
   ],
   "source": [
    "alphalist[np.argmin(err_vec_val)]"
   ]
  },
  {
   "cell_type": "code",
   "execution_count": 152,
   "id": "a34edf5d",
   "metadata": {},
   "outputs": [
    {
     "data": {
      "text/plain": [
       "0.7714287888085909"
      ]
     },
     "execution_count": 152,
     "metadata": {},
     "output_type": "execute_result"
    }
   ],
   "source": [
    "#ridge model for train data \n",
    "lm_model_ridge = Ridge(alpha =0.01)\n",
    "lm_model_ridge.fit(X_train_scaled, y_train)\n",
    "lm_model_ridge.score(X_train_scaled, y_train)"
   ]
  },
  {
   "cell_type": "code",
   "execution_count": 79,
   "id": "5ac994b5",
   "metadata": {},
   "outputs": [
    {
     "data": {
      "text/plain": [
       "0.746663134708925"
      ]
     },
     "execution_count": 79,
     "metadata": {},
     "output_type": "execute_result"
    }
   ],
   "source": [
    "#ridge model for validtion data \n",
    "lm_model_ridge = Ridge(alpha = 0.01)\n",
    "lm_model_ridge.fit(X_train_scaled, y_train)\n",
    "lm_model_ridge.score(X_val_scaled, y_val)"
   ]
  },
  {
   "cell_type": "code",
   "execution_count": 80,
   "id": "f9aa2c61",
   "metadata": {},
   "outputs": [
    {
     "name": "stdout",
     "output_type": "stream",
     "text": [
      "7.057022818255515\n",
      "3.117648515607842\n"
     ]
    }
   ],
   "source": [
    "#The rmse and mae for the data train in ridge\n",
    "preds_train = lm_model_ridge.predict(X_train_scaled)\n",
    "rmse = mean_squared_error(y_train, preds_train, squared=False)\n",
    "mae = mean_absolute_error(y_train, preds_train)\n",
    "print(rmse)\n",
    "print(mae)"
   ]
  },
  {
   "cell_type": "code",
   "execution_count": 81,
   "id": "60fc3d57",
   "metadata": {},
   "outputs": [
    {
     "name": "stdout",
     "output_type": "stream",
     "text": [
      "7.250553630257774\n",
      "3.100547813800587\n"
     ]
    }
   ],
   "source": [
    "#The rmse and mae for the data valdition in ridge\n",
    "preds_val = lm_model_ridge.predict(X_val_scaled)\n",
    "rmse = mean_squared_error(y_val, preds_val, squared=False)\n",
    "mae = mean_absolute_error(y_val, preds_val)\n",
    "print(rmse)\n",
    "print(mae)"
   ]
  },
  {
   "cell_type": "code",
   "execution_count": 82,
   "id": "d50d3f62",
   "metadata": {},
   "outputs": [
    {
     "data": {
      "text/plain": [
       "0.771419948185945"
      ]
     },
     "execution_count": 82,
     "metadata": {},
     "output_type": "execute_result"
    }
   ],
   "source": [
    "#lasso model for train data \n",
    "lm_model_lasso = Lasso(alpha = 0.01)\n",
    "lm_model_lasso.fit(X_train, y_train)\n",
    "lm_model_lasso.score(X_train, y_train)"
   ]
  },
  {
   "cell_type": "code",
   "execution_count": 83,
   "id": "075a4ac2",
   "metadata": {},
   "outputs": [
    {
     "data": {
      "text/plain": [
       "0.7464407248047246"
      ]
     },
     "execution_count": 83,
     "metadata": {},
     "output_type": "execute_result"
    }
   ],
   "source": [
    "#lasso model for valdtion data \n",
    "lm_model_lasso = Lasso(alpha = 0.01)\n",
    "lm_model_lasso.fit(X_train, y_train)\n",
    "lm_model_lasso.score(X_val, y_val)"
   ]
  },
  {
   "cell_type": "code",
   "execution_count": 84,
   "id": "117c658c",
   "metadata": {},
   "outputs": [
    {
     "name": "stdout",
     "output_type": "stream",
     "text": [
      "7.057174832194484\n",
      "3.11778853908283\n"
     ]
    }
   ],
   "source": [
    "#The rmse and mae for the data train in lasso\n",
    "preds_train = lm_model_lasso.predict(X_train)\n",
    "rmse = mean_squared_error(y_train, preds_train, squared=False)\n",
    "mae = mean_absolute_error(y_train, preds_train)\n",
    "print(rmse)\n",
    "print(mae)"
   ]
  },
  {
   "cell_type": "code",
   "execution_count": 85,
   "id": "e180b1ac",
   "metadata": {},
   "outputs": [
    {
     "name": "stdout",
     "output_type": "stream",
     "text": [
      "7.2537356408166245\n",
      "3.1007181536153934\n"
     ]
    }
   ],
   "source": [
    "#The rmse and mae for the data validition in lasso \n",
    "preds_val = lm_model_lasso.predict(X_val)\n",
    "rmse = mean_squared_error(y_val, preds_val, squared=False)\n",
    "mae = mean_absolute_error(y_val, preds_val)\n",
    "print(rmse)\n",
    "print(mae)"
   ]
  },
  {
   "cell_type": "code",
   "execution_count": 86,
   "id": "054fae4c",
   "metadata": {},
   "outputs": [
    {
     "data": {
      "text/plain": [
       "0.7714227190419838"
      ]
     },
     "execution_count": 86,
     "metadata": {},
     "output_type": "execute_result"
    }
   ],
   "source": [
    "#ElasticNet model for train data \n",
    "ent=ElasticNet(alpha = 0.01)\n",
    "ent.fit(X_train, y_train)\n",
    "ent.score(X_train, y_train)"
   ]
  },
  {
   "cell_type": "code",
   "execution_count": 87,
   "id": "8011479b",
   "metadata": {},
   "outputs": [
    {
     "data": {
      "text/plain": [
       "0.7463277563984392"
      ]
     },
     "execution_count": 87,
     "metadata": {},
     "output_type": "execute_result"
    }
   ],
   "source": [
    "#ElasticNet model for valdtion data \n",
    "ent=ElasticNet(alpha = 0.01)\n",
    "ent.fit(X_train, y_train)\n",
    "ent.score(X_val, y_val)"
   ]
  },
  {
   "cell_type": "code",
   "execution_count": 88,
   "id": "168126f7",
   "metadata": {},
   "outputs": [
    {
     "name": "stdout",
     "output_type": "stream",
     "text": [
      "7.057132058394657\n",
      "3.117704897410268\n"
     ]
    }
   ],
   "source": [
    "#The rmse and mae for the data train in ElasticNet \n",
    "preds_train = ent.predict(X_train)\n",
    "rmse = mean_squared_error(y_train, preds_train, squared=False)\n",
    "mae = mean_absolute_error(y_train, preds_train)\n",
    "print(rmse)\n",
    "print(mae)"
   ]
  },
  {
   "cell_type": "code",
   "execution_count": 89,
   "id": "f067b769",
   "metadata": {},
   "outputs": [
    {
     "name": "stdout",
     "output_type": "stream",
     "text": [
      "7.255351341332675\n",
      "3.1006614015136984\n"
     ]
    }
   ],
   "source": [
    "#The rmse and mae for the data validition in ElasticNet \n",
    "preds_val = ent.predict(X_val)\n",
    "rmse = mean_squared_error(y_val, preds_val, squared=False)\n",
    "mae = mean_absolute_error(y_val, preds_val)\n",
    "print(rmse)\n",
    "print(mae)"
   ]
  },
  {
   "cell_type": "code",
   "execution_count": 90,
   "id": "c8dcf9e1",
   "metadata": {},
   "outputs": [],
   "source": [
    "# creat a sample for Knn model.\n",
    "df_train_sample=df_train.sample(100000,random_state=199 )"
   ]
  },
  {
   "cell_type": "code",
   "execution_count": 91,
   "id": "abafa8e3",
   "metadata": {},
   "outputs": [],
   "source": [
    "X_train = df_train_sample.loc[:,['trip_distance', 'RatecodeID',\n",
    "                       'extra', 'pickup_day_no',\n",
    "                       'tolls_amount', 'improvement_surcharge', \n",
    "                        'car_type_family']]\n",
    "\n",
    "y_train = df_train_sample['total_amount']"
   ]
  },
  {
   "cell_type": "code",
   "execution_count": 92,
   "id": "edb6cd12",
   "metadata": {},
   "outputs": [
    {
     "data": {
      "text/plain": [
       "{'n_neighbors': 10}"
      ]
     },
     "execution_count": 92,
     "metadata": {},
     "output_type": "execute_result"
    }
   ],
   "source": [
    "\"\"\"\n",
    "\n",
    "\"\"\"\n",
    "parameters = {\"n_neighbors\": range(1, 50)}\n",
    "gridsearch = GridSearchCV(KNeighborsRegressor(), parameters)\n",
    "gridsearch.fit(X_train, y_train)\n",
    "gridsearch.best_params_"
   ]
  },
  {
   "cell_type": "code",
   "execution_count": 93,
   "id": "57ca9166",
   "metadata": {},
   "outputs": [
    {
     "data": {
      "text/plain": [
       "0.9141381343255142"
      ]
     },
     "execution_count": 93,
     "metadata": {},
     "output_type": "execute_result"
    }
   ],
   "source": [
    "#knn model for train data \n",
    "knn_model = KNeighborsRegressor(n_neighbors=10)\n",
    "knn_model.fit(X_train, y_train)\n",
    "knn_model.score(X_train, y_train)"
   ]
  },
  {
   "cell_type": "code",
   "execution_count": 94,
   "id": "32c73f67",
   "metadata": {},
   "outputs": [
    {
     "data": {
      "text/plain": [
       "0.9190088960385532"
      ]
     },
     "execution_count": 94,
     "metadata": {},
     "output_type": "execute_result"
    }
   ],
   "source": [
    "#knn model for valdtion data\n",
    "knn_model = KNeighborsRegressor(n_neighbors=10)\n",
    "knn_model.fit(X_train, y_train)\n",
    "knn_model.score(X_val, y_val)"
   ]
  },
  {
   "cell_type": "code",
   "execution_count": 96,
   "id": "1a10d8e0",
   "metadata": {},
   "outputs": [
    {
     "name": "stdout",
     "output_type": "stream",
     "text": [
      "4.316656298804666\n",
      "2.05254087\n"
     ]
    }
   ],
   "source": [
    "#The rmse and mae for the data train in Knn\n",
    "preds_val = knn_model.predict(X_train)\n",
    "rmse = mean_squared_error(y_train, preds_val, squared=False)\n",
    "mae = mean_absolute_error(y_train, preds_val)\n",
    "print(rmse)\n",
    "print(mae)"
   ]
  },
  {
   "cell_type": "code",
   "execution_count": 97,
   "id": "dcae855b",
   "metadata": {},
   "outputs": [
    {
     "name": "stdout",
     "output_type": "stream",
     "text": [
      "4.099591956779113\n",
      "2.201068425585219\n"
     ]
    }
   ],
   "source": [
    "#The rmse and mae for the data valdition in Knn\n",
    "preds_val = knn_model.predict(X_val)\n",
    "rmse = mean_squared_error(y_val, preds_val, squared=False)\n",
    "mae = mean_absolute_error(y_val, preds_val)\n",
    "print(rmse)\n",
    "print(mae)"
   ]
  },
  {
   "cell_type": "markdown",
   "id": "76db3926",
   "metadata": {},
   "source": [
    "## Data Pre-Processing for data test "
   ]
  },
  {
   "cell_type": "code",
   "execution_count": 98,
   "id": "04982a36",
   "metadata": {},
   "outputs": [
    {
     "data": {
      "text/plain": [
       "(28216, 18)"
      ]
     },
     "execution_count": 98,
     "metadata": {},
     "output_type": "execute_result"
    }
   ],
   "source": [
    "df_test.shape"
   ]
  },
  {
   "cell_type": "code",
   "execution_count": 99,
   "id": "57575ca8",
   "metadata": {},
   "outputs": [
    {
     "data": {
      "text/plain": [
       "VendorID                 1304\n",
       "tpep_pickup_datetime        0\n",
       "tpep_dropoff_datetime       0\n",
       "passenger_count          1304\n",
       "trip_distance               0\n",
       "RatecodeID               1304\n",
       "store_and_fwd_flag       1304\n",
       "PULocationID                0\n",
       "DOLocationID                0\n",
       "payment_type             1304\n",
       "fare_amount                 0\n",
       "extra                       0\n",
       "mta_tax                     0\n",
       "tip_amount                  0\n",
       "tolls_amount                0\n",
       "improvement_surcharge       0\n",
       "total_amount                0\n",
       "congestion_surcharge        0\n",
       "dtype: int64"
      ]
     },
     "execution_count": 99,
     "metadata": {},
     "output_type": "execute_result"
    }
   ],
   "source": [
    "df_test.isnull().sum()"
   ]
  },
  {
   "cell_type": "code",
   "execution_count": 100,
   "id": "065d8306",
   "metadata": {},
   "outputs": [],
   "source": [
    "df_test=df_test.dropna(how='any')"
   ]
  },
  {
   "cell_type": "code",
   "execution_count": 101,
   "id": "e7da73f0",
   "metadata": {},
   "outputs": [
    {
     "data": {
      "text/plain": [
       "VendorID                 0\n",
       "tpep_pickup_datetime     0\n",
       "tpep_dropoff_datetime    0\n",
       "passenger_count          0\n",
       "trip_distance            0\n",
       "RatecodeID               0\n",
       "store_and_fwd_flag       0\n",
       "PULocationID             0\n",
       "DOLocationID             0\n",
       "payment_type             0\n",
       "fare_amount              0\n",
       "extra                    0\n",
       "mta_tax                  0\n",
       "tip_amount               0\n",
       "tolls_amount             0\n",
       "improvement_surcharge    0\n",
       "total_amount             0\n",
       "congestion_surcharge     0\n",
       "dtype: int64"
      ]
     },
     "execution_count": 101,
     "metadata": {},
     "output_type": "execute_result"
    }
   ],
   "source": [
    "df_test.isnull().sum()"
   ]
  },
  {
   "cell_type": "code",
   "execution_count": 102,
   "id": "f71206a6",
   "metadata": {},
   "outputs": [
    {
     "data": {
      "text/plain": [
       "1.0    19259\n",
       "2.0     4151\n",
       "3.0     1182\n",
       "5.0      738\n",
       "0.0      627\n",
       "4.0      526\n",
       "6.0      429\n",
       "Name: passenger_count, dtype: int64"
      ]
     },
     "execution_count": 102,
     "metadata": {},
     "output_type": "execute_result"
    }
   ],
   "source": [
    "df_test['passenger_count'].value_counts()"
   ]
  },
  {
   "cell_type": "code",
   "execution_count": 103,
   "id": "858fd279",
   "metadata": {},
   "outputs": [],
   "source": [
    "#drop the 0,9,7,8\n",
    "df_test=df_test.drop(df_test[df_test.passenger_count.values==0].index)"
   ]
  },
  {
   "cell_type": "code",
   "execution_count": 104,
   "id": "e05c35e6",
   "metadata": {},
   "outputs": [
    {
     "data": {
      "text/plain": [
       "1.0    19259\n",
       "2.0     4151\n",
       "3.0     1182\n",
       "5.0      738\n",
       "4.0      526\n",
       "6.0      429\n",
       "Name: passenger_count, dtype: int64"
      ]
     },
     "execution_count": 104,
     "metadata": {},
     "output_type": "execute_result"
    }
   ],
   "source": [
    "df_test['passenger_count'].value_counts()"
   ]
  },
  {
   "cell_type": "code",
   "execution_count": 105,
   "id": "cd841fcb",
   "metadata": {},
   "outputs": [
    {
     "data": {
      "text/html": [
       "<div>\n",
       "<style scoped>\n",
       "    .dataframe tbody tr th:only-of-type {\n",
       "        vertical-align: middle;\n",
       "    }\n",
       "\n",
       "    .dataframe tbody tr th {\n",
       "        vertical-align: top;\n",
       "    }\n",
       "\n",
       "    .dataframe thead th {\n",
       "        text-align: right;\n",
       "    }\n",
       "</style>\n",
       "<table border=\"1\" class=\"dataframe\">\n",
       "  <thead>\n",
       "    <tr style=\"text-align: right;\">\n",
       "      <th></th>\n",
       "      <th>VendorID</th>\n",
       "      <th>tpep_pickup_datetime</th>\n",
       "      <th>tpep_dropoff_datetime</th>\n",
       "      <th>passenger_count</th>\n",
       "      <th>trip_distance</th>\n",
       "      <th>RatecodeID</th>\n",
       "      <th>store_and_fwd_flag</th>\n",
       "      <th>PULocationID</th>\n",
       "      <th>DOLocationID</th>\n",
       "      <th>payment_type</th>\n",
       "      <th>fare_amount</th>\n",
       "      <th>extra</th>\n",
       "      <th>mta_tax</th>\n",
       "      <th>tip_amount</th>\n",
       "      <th>tolls_amount</th>\n",
       "      <th>improvement_surcharge</th>\n",
       "      <th>total_amount</th>\n",
       "      <th>congestion_surcharge</th>\n",
       "      <th>car_type_family</th>\n",
       "    </tr>\n",
       "  </thead>\n",
       "  <tbody>\n",
       "    <tr>\n",
       "      <th>269270</th>\n",
       "      <td>1.0</td>\n",
       "      <td>2021-07-04 15:30:18</td>\n",
       "      <td>2021-07-04 15:38:45</td>\n",
       "      <td>2.0</td>\n",
       "      <td>1.7</td>\n",
       "      <td>1.0</td>\n",
       "      <td>N</td>\n",
       "      <td>113</td>\n",
       "      <td>125</td>\n",
       "      <td>1.0</td>\n",
       "      <td>8.5</td>\n",
       "      <td>2.5</td>\n",
       "      <td>0.5</td>\n",
       "      <td>2.35</td>\n",
       "      <td>0.0</td>\n",
       "      <td>0.3</td>\n",
       "      <td>14.15</td>\n",
       "      <td>2.5</td>\n",
       "      <td>0</td>\n",
       "    </tr>\n",
       "    <tr>\n",
       "      <th>1834566</th>\n",
       "      <td>2.0</td>\n",
       "      <td>2021-07-22 15:25:18</td>\n",
       "      <td>2021-07-22 15:30:43</td>\n",
       "      <td>1.0</td>\n",
       "      <td>0.6</td>\n",
       "      <td>1.0</td>\n",
       "      <td>N</td>\n",
       "      <td>162</td>\n",
       "      <td>237</td>\n",
       "      <td>1.0</td>\n",
       "      <td>5.5</td>\n",
       "      <td>0.0</td>\n",
       "      <td>0.5</td>\n",
       "      <td>1.76</td>\n",
       "      <td>0.0</td>\n",
       "      <td>0.3</td>\n",
       "      <td>10.56</td>\n",
       "      <td>2.5</td>\n",
       "      <td>0</td>\n",
       "    </tr>\n",
       "    <tr>\n",
       "      <th>601438</th>\n",
       "      <td>1.0</td>\n",
       "      <td>2021-07-08 17:41:34</td>\n",
       "      <td>2021-07-08 18:00:30</td>\n",
       "      <td>1.0</td>\n",
       "      <td>3.2</td>\n",
       "      <td>1.0</td>\n",
       "      <td>N</td>\n",
       "      <td>162</td>\n",
       "      <td>151</td>\n",
       "      <td>2.0</td>\n",
       "      <td>15.0</td>\n",
       "      <td>3.5</td>\n",
       "      <td>0.5</td>\n",
       "      <td>0.00</td>\n",
       "      <td>0.0</td>\n",
       "      <td>0.3</td>\n",
       "      <td>19.30</td>\n",
       "      <td>2.5</td>\n",
       "      <td>0</td>\n",
       "    </tr>\n",
       "  </tbody>\n",
       "</table>\n",
       "</div>"
      ],
      "text/plain": [
       "         VendorID tpep_pickup_datetime tpep_dropoff_datetime  passenger_count  \\\n",
       "269270        1.0  2021-07-04 15:30:18   2021-07-04 15:38:45              2.0   \n",
       "1834566       2.0  2021-07-22 15:25:18   2021-07-22 15:30:43              1.0   \n",
       "601438        1.0  2021-07-08 17:41:34   2021-07-08 18:00:30              1.0   \n",
       "\n",
       "         trip_distance  RatecodeID store_and_fwd_flag  PULocationID  \\\n",
       "269270             1.7         1.0                  N           113   \n",
       "1834566            0.6         1.0                  N           162   \n",
       "601438             3.2         1.0                  N           162   \n",
       "\n",
       "         DOLocationID  payment_type  fare_amount  extra  mta_tax  tip_amount  \\\n",
       "269270            125           1.0          8.5    2.5      0.5        2.35   \n",
       "1834566           237           1.0          5.5    0.0      0.5        1.76   \n",
       "601438            151           2.0         15.0    3.5      0.5        0.00   \n",
       "\n",
       "         tolls_amount  improvement_surcharge  total_amount  \\\n",
       "269270            0.0                    0.3         14.15   \n",
       "1834566           0.0                    0.3         10.56   \n",
       "601438            0.0                    0.3         19.30   \n",
       "\n",
       "         congestion_surcharge  car_type_family  \n",
       "269270                    2.5                0  \n",
       "1834566                   2.5                0  \n",
       "601438                    2.5                0  "
      ]
     },
     "execution_count": 105,
     "metadata": {},
     "output_type": "execute_result"
    }
   ],
   "source": [
    "df_test['car_type']= df_test.passenger_count.apply(car_type)\n",
    "\n",
    "df_test = pd.get_dummies(df_test, columns=['car_type'],drop_first=True)\n",
    "\n",
    "#\n",
    "df_test.head(3)"
   ]
  },
  {
   "cell_type": "code",
   "execution_count": 106,
   "id": "3e76c308",
   "metadata": {},
   "outputs": [],
   "source": [
    "df_test['tpep_pickup_datetime']=pd.to_datetime(df_test['tpep_pickup_datetime'])\n",
    "df_test['tpep_dropoff_datetime']=pd.to_datetime(df_test['tpep_dropoff_datetime'])\n",
    "df_test['pickup_day_no']=df_test['tpep_pickup_datetime'].dt.weekday\n",
    "df_test['dropoff_day_no']=df_test['tpep_dropoff_datetime'].dt.weekday"
   ]
  },
  {
   "cell_type": "code",
   "execution_count": 107,
   "id": "5535fd15",
   "metadata": {},
   "outputs": [
    {
     "data": {
      "text/plain": [
       "269270     6\n",
       "1834566    3\n",
       "601438     3\n",
       "529459     2\n",
       "494097     2\n",
       "          ..\n",
       "1665373    1\n",
       "1160944    3\n",
       "2467281    3\n",
       "720541     5\n",
       "1952691    4\n",
       "Name: pickup_day_no, Length: 26285, dtype: int64"
      ]
     },
     "execution_count": 107,
     "metadata": {},
     "output_type": "execute_result"
    }
   ],
   "source": [
    "df_test['pickup_day_no'].astype(int)"
   ]
  },
  {
   "cell_type": "code",
   "execution_count": 108,
   "id": "db061d4e",
   "metadata": {},
   "outputs": [],
   "source": [
    "#drop the negative value \n",
    "df_val=df_val.drop(df_val[df_val.total_amount.values<=0].index)"
   ]
  },
  {
   "cell_type": "code",
   "execution_count": 109,
   "id": "c80fb2f1",
   "metadata": {},
   "outputs": [],
   "source": [
    "#drop the negative value \n",
    "df_val=df_val.drop(df_val[df_val.trip_distance.values<=0].index)"
   ]
  },
  {
   "cell_type": "code",
   "execution_count": 110,
   "id": "ff150e7b",
   "metadata": {},
   "outputs": [
    {
     "data": {
      "text/plain": [
       "(26285, 21)"
      ]
     },
     "execution_count": 110,
     "metadata": {},
     "output_type": "execute_result"
    }
   ],
   "source": [
    "df_test.shape"
   ]
  },
  {
   "cell_type": "markdown",
   "id": "1f867e3e",
   "metadata": {},
   "source": [
    "## Model "
   ]
  },
  {
   "cell_type": "code",
   "execution_count": 111,
   "id": "b8d99b90",
   "metadata": {},
   "outputs": [],
   "source": [
    "X_test = df_test.loc[:,['trip_distance', 'RatecodeID', \n",
    "                       'extra', 'pickup_day_no',\n",
    "                       'tolls_amount', 'improvement_surcharge', \n",
    "                       'car_type_family']]\n",
    "\n",
    "y_test = df_test['total_amount']"
   ]
  },
  {
   "cell_type": "code",
   "execution_count": 112,
   "id": "c9231508",
   "metadata": {},
   "outputs": [],
   "source": [
    "scaler = StandardScaler()\n",
    "X_train_scaled = scaler.fit_transform(X_train.values)\n",
    "X_test_scaled = scaler.transform(X_test.values)"
   ]
  },
  {
   "cell_type": "code",
   "execution_count": 113,
   "id": "3d7859fd",
   "metadata": {},
   "outputs": [
    {
     "data": {
      "text/plain": [
       "0.7794116624926734"
      ]
     },
     "execution_count": 113,
     "metadata": {},
     "output_type": "execute_result"
    }
   ],
   "source": [
    "lm = LinearRegression()\n",
    "lm.fit(X_train_scaled, y_train)\n",
    "lm.score(X_test_scaled, y_test)"
   ]
  },
  {
   "cell_type": "code",
   "execution_count": 114,
   "id": "687454a2",
   "metadata": {},
   "outputs": [
    {
     "name": "stdout",
     "output_type": "stream",
     "text": [
      "7.000529914683116\n",
      "3.991095920066853\n"
     ]
    }
   ],
   "source": [
    "#The rmse and mae for the data test in linear model.\n",
    "preds_test = lm.predict(X_test_scaled)\n",
    "rmse = mean_squared_error(y_test, preds_test, squared=False)\n",
    "mae = mean_absolute_error(y_test, preds_test)\n",
    "print(rmse)\n",
    "print(mae)"
   ]
  },
  {
   "cell_type": "code",
   "execution_count": 115,
   "id": "4e1d2c00",
   "metadata": {},
   "outputs": [
    {
     "name": "stdout",
     "output_type": "stream",
     "text": [
      "Degree 2 polynomial regression test R^2: 0.845\n"
     ]
    }
   ],
   "source": [
    "poly = PolynomialFeatures(degree=2)\n",
    "X_train_poly = poly.fit_transform(X_train.values)\n",
    "X_test_poly = poly.transform(X_test.values)\n",
    "lm_poly = LinearRegression()\n",
    "lm_poly.fit(X_train_poly, y_train)\n",
    "print(f'Degree 2 polynomial regression test R^2: {lm_poly.score(X_test_poly, y_test):.3f}')"
   ]
  },
  {
   "cell_type": "code",
   "execution_count": 116,
   "id": "4c596621",
   "metadata": {},
   "outputs": [
    {
     "name": "stdout",
     "output_type": "stream",
     "text": [
      "5.872472277265237\n",
      "2.9716705693702545\n"
     ]
    }
   ],
   "source": [
    "#The rmse and mae for the data test in ploynomial.\n",
    "preds_test = lm_poly.predict(X_test_poly)\n",
    "rmse = mean_squared_error(y_test, preds_test, squared=False)\n",
    "mae = mean_absolute_error(y_test, preds_test)\n",
    "print(rmse)\n",
    "print(mae)"
   ]
  },
  {
   "cell_type": "code",
   "execution_count": 117,
   "id": "8fe17337",
   "metadata": {},
   "outputs": [
    {
     "data": {
      "text/plain": [
       "0.7794116480303919"
      ]
     },
     "execution_count": 117,
     "metadata": {},
     "output_type": "execute_result"
    }
   ],
   "source": [
    "lm_model_ridge = Ridge(alpha = 0.01)\n",
    "lm_model_ridge.fit(X_train_scaled, y_train)\n",
    "lm_model_ridge.score(X_test_scaled, y_test)"
   ]
  },
  {
   "cell_type": "code",
   "execution_count": 118,
   "id": "745711ba",
   "metadata": {},
   "outputs": [
    {
     "name": "stdout",
     "output_type": "stream",
     "text": [
      "7.000529914683116\n",
      "3.991095920066853\n"
     ]
    }
   ],
   "source": [
    "#The rmse and mae for the data test in ridge.\n",
    "preds_test = lm_model_ridge.predict(X_test_scaled)\n",
    "rmse = mean_squared_error(y_test, preds_test, squared=False)\n",
    "mae = mean_absolute_error(y_test, preds_test)\n",
    "print(rmse)\n",
    "print(mae)"
   ]
  },
  {
   "cell_type": "code",
   "execution_count": 119,
   "id": "3b5cbbba",
   "metadata": {},
   "outputs": [
    {
     "data": {
      "text/plain": [
       "0.7764701704752998"
      ]
     },
     "execution_count": 119,
     "metadata": {},
     "output_type": "execute_result"
    }
   ],
   "source": [
    "#lasso model for valdtion data \n",
    "lm_model_lasso = Lasso(alpha = 0.01)\n",
    "lm_model_lasso.fit(X_train, y_train)\n",
    "lm_model_lasso.score(X_test, y_test)"
   ]
  },
  {
   "cell_type": "code",
   "execution_count": 125,
   "id": "3e83f8fb",
   "metadata": {},
   "outputs": [
    {
     "name": "stdout",
     "output_type": "stream",
     "text": [
      "7.047050527853428\n",
      "4.002483082099062\n"
     ]
    }
   ],
   "source": [
    "#The rmse and mae for the data test in lasso.\n",
    "preds_test = lm_model_lasso.predict(X_test)\n",
    "rmse = mean_squared_error(y_test, preds_test, squared=False)\n",
    "mae = mean_absolute_error(y_test, preds_test)\n",
    "print(rmse)\n",
    "print(mae)"
   ]
  },
  {
   "cell_type": "code",
   "execution_count": 121,
   "id": "3c939b82",
   "metadata": {},
   "outputs": [
    {
     "data": {
      "text/plain": [
       "0.7765035968651385"
      ]
     },
     "execution_count": 121,
     "metadata": {},
     "output_type": "execute_result"
    }
   ],
   "source": [
    "#ElasticNet model for train data \n",
    "ent=ElasticNet(alpha = 0.01)\n",
    "ent.fit(X_train, y_train)\n",
    "ent.score(X_test, y_test)"
   ]
  },
  {
   "cell_type": "code",
   "execution_count": 128,
   "id": "49a43e0a",
   "metadata": {},
   "outputs": [
    {
     "name": "stdout",
     "output_type": "stream",
     "text": [
      "7.0465236042979384\n",
      "4.001832361308318\n"
     ]
    }
   ],
   "source": [
    "#The rmse and mae for the data test in ElasticNet.\n",
    "preds_test = ent.predict(X_test)\n",
    "rmse = mean_squared_error(y_test, preds_test, squared=False)\n",
    "mae = mean_absolute_error(y_test, preds_test)\n",
    "print(rmse)\n",
    "print(mae)"
   ]
  },
  {
   "cell_type": "code",
   "execution_count": 154,
   "id": "8afd5399",
   "metadata": {},
   "outputs": [],
   "source": [
    "X_train = df_train_sample.loc[:,['trip_distance', 'RatecodeID',\n",
    "                       'extra', 'pickup_day_no',\n",
    "                       'tolls_amount', 'improvement_surcharge', \n",
    "                        'car_type_family']]\n",
    "\n",
    "y_train = df_train_sample['total_amount']"
   ]
  },
  {
   "cell_type": "code",
   "execution_count": 130,
   "id": "4fa1b46e",
   "metadata": {},
   "outputs": [
    {
     "data": {
      "text/plain": [
       "0.865859268076722"
      ]
     },
     "execution_count": 130,
     "metadata": {},
     "output_type": "execute_result"
    }
   ],
   "source": [
    "#knn model for test data \n",
    "knn_model = KNeighborsRegressor(n_neighbors=10)\n",
    "knn_model.fit(X_train, y_train)\n",
    "knn_model.score(X_test, y_test)"
   ]
  },
  {
   "cell_type": "code",
   "execution_count": 153,
   "id": "0be61e75",
   "metadata": {},
   "outputs": [
    {
     "name": "stdout",
     "output_type": "stream",
     "text": [
      "5.459086525211613\n",
      "2.4862028152938938\n"
     ]
    }
   ],
   "source": [
    "#The rmse and mae for the data test in knn model.\n",
    "preds_test = knn_model.predict(X_test)\n",
    "rmse = mean_squared_error(y_test, preds_test, squared=False)\n",
    "mae = mean_absolute_error(y_test, preds_test)\n",
    "print(rmse)\n",
    "print(mae)"
   ]
  },
  {
   "cell_type": "code",
   "execution_count": null,
   "id": "0b1d81be",
   "metadata": {},
   "outputs": [],
   "source": []
  },
  {
   "cell_type": "code",
   "execution_count": null,
   "id": "891ae65a",
   "metadata": {},
   "outputs": [],
   "source": []
  }
 ],
 "metadata": {
  "kernelspec": {
   "display_name": "Python 3",
   "language": "python",
   "name": "python3"
  },
  "language_info": {
   "codemirror_mode": {
    "name": "ipython",
    "version": 3
   },
   "file_extension": ".py",
   "mimetype": "text/x-python",
   "name": "python",
   "nbconvert_exporter": "python",
   "pygments_lexer": "ipython3",
   "version": "3.8.8"
  }
 },
 "nbformat": 4,
 "nbformat_minor": 5
}
